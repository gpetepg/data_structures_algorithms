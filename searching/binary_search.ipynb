{
 "cells": [
  {
   "cell_type": "markdown",
   "metadata": {},
   "source": [
    "# Binary Search\n",
    "\n",
    "Binary searches are use to find elements within a list by consistently reduing the amound of data to be searched and thereby increasing the rate at which the search term is found.\n",
    "\n",
    "To use binary search we need to have a sorted list."
   ]
  },
  {
   "cell_type": "markdown",
   "metadata": {},
   "source": [
    "<b>References and resources:</b>\n",
    "- Python Data Structures and Algorithms by Benjamin Baka\n",
    "- [Wikipedia](https://en.wikipedia.org/wiki/Linear_search)\n",
    "- https://stackoverflow.com/questions/19989910/recursion-binary-search-in-python\n",
    "- https://www.youtube.com/watch?v=zeULw-a7Mw8"
   ]
  },
  {
   "cell_type": "code",
   "execution_count": 1,
   "metadata": {},
   "outputs": [],
   "source": [
    "# # Uncomment to use inline pythontutor\n",
    "\n",
    "# from IPython.display import IFrame\n",
    "\n",
    "# IFrame('http://www.pythontutor.com/visualize.html#mode=display', height=750, width=750)"
   ]
  },
  {
   "cell_type": "markdown",
   "metadata": {},
   "source": [
    "https://stackoverflow.com/questions/19989910/recursion-binary-search-in-python"
   ]
  },
  {
   "cell_type": "code",
   "execution_count": 6,
   "metadata": {},
   "outputs": [],
   "source": [
    "# Recursive solution:\n",
    "\n",
    "def binary_search_recursive(arr, elem, start=0, end=None):\n",
    "    if end is None:\n",
    "        end = len(arr) - 1\n",
    "    if start > end:\n",
    "        return False\n",
    "\n",
    "    mid = (start + end) // 2\n",
    "    if elem == arr[mid]:\n",
    "        return mid\n",
    "    if elem < arr[mid]:\n",
    "        return binary_search_recursive(arr, elem, start, mid-1)\n",
    "    # elem > arr[mid]\n",
    "    return binary_search_recursive(arr, elem, mid+1, end)"
   ]
  },
  {
   "cell_type": "code",
   "execution_count": 7,
   "metadata": {},
   "outputs": [
    {
     "data": {
      "text/plain": [
       "4"
      ]
     },
     "execution_count": 7,
     "metadata": {},
     "output_type": "execute_result"
    }
   ],
   "source": [
    "binary_search_recursive(lst, 43)"
   ]
  },
  {
   "cell_type": "code",
   "execution_count": null,
   "metadata": {},
   "outputs": [],
   "source": [
    "# Simpler\n",
    "def binary_recursive(data, target, low, high):\n",
    "    if low > high:\n",
    "        return 0\n",
    "    else:\n",
    "        mid = (low + high) // 2\n",
    "        if target == data[mid]:\n",
    "            return 1\n",
    "        elif target < data[mid]:\n",
    "            return binary_recursive(data, target, low, mid-1)\n",
    "        else:\n",
    "            return binary_recursive(data, target, mid+1, high)"
   ]
  },
  {
   "cell_type": "code",
   "execution_count": 8,
   "metadata": {},
   "outputs": [],
   "source": [
    "# Iterative solution:\n",
    "\n",
    "def binary_search_iterative(arr, elem):\n",
    "    start, end = 0, (len(arr) - 1)\n",
    "    while start <= end:\n",
    "        mid = (start + end) // 2\n",
    "        if elem == arr[mid]:\n",
    "            return mid\n",
    "        if elem < arr[mid]:\n",
    "            end = mid - 1\n",
    "        else:  # elem > arr[mid]\n",
    "            start = mid + 1\n",
    "    return False"
   ]
  },
  {
   "cell_type": "code",
   "execution_count": null,
   "metadata": {},
   "outputs": [],
   "source": [
    "# Simpler\n",
    "def binary_iterative(data, target):\n",
    "    low = 0\n",
    "    high = len(data) - 1\n",
    "    \n",
    "    while low <= high:\n",
    "        mid = (low + high) // 2\n",
    "        if target == data[mid]:\n",
    "            return 1, mid\n",
    "        elif target < data[mid]:\n",
    "            high = mid - 1\n",
    "        else:\n",
    "            low = mid + 1\n",
    "    return 0"
   ]
  },
  {
   "cell_type": "code",
   "execution_count": 9,
   "metadata": {},
   "outputs": [
    {
     "data": {
      "text/plain": [
       "4"
      ]
     },
     "execution_count": 9,
     "metadata": {},
     "output_type": "execute_result"
    }
   ],
   "source": [
    "binary_search_iterative(lst, 43)"
   ]
  }
 ],
 "metadata": {
  "kernelspec": {
   "display_name": "Python 3",
   "language": "python",
   "name": "python3"
  },
  "language_info": {
   "codemirror_mode": {
    "name": "ipython",
    "version": 3
   },
   "file_extension": ".py",
   "mimetype": "text/x-python",
   "name": "python",
   "nbconvert_exporter": "python",
   "pygments_lexer": "ipython3",
   "version": "3.6.5"
  }
 },
 "nbformat": 4,
 "nbformat_minor": 2
}
