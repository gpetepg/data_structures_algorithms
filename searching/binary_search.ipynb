{
 "cells": [
  {
   "cell_type": "markdown",
   "metadata": {},
   "source": [
    "# Binary Search\n",
    "\n",
    "Binary searches are use to find elements within a list by consistently reduing the amound of data to be searched and thereby increasing the rate at which the search term is found.\n",
    "\n",
    "To use binary search we need to have a sorted list."
   ]
  },
  {
   "cell_type": "markdown",
   "metadata": {},
   "source": [
    "<b>References and resources:</b>\n",
    "- Python Data Structures and Algorithms by Benjamin Baka\n",
    "- [Wikipedia](https://en.wikipedia.org/wiki/Linear_search)"
   ]
  },
  {
   "cell_type": "code",
   "execution_count": 28,
   "metadata": {},
   "outputs": [],
   "source": [
    "def binary_search(ordered_list, term):\n",
    "    \"\"\"\n",
    "    Iterative solution\n",
    "    \"\"\"\n",
    "    size_of_list = len(ordered_list) - 1\n",
    "    index_of_first_element = 0\n",
    "    index_of_last_element = size_of_list\n",
    "    \n",
    "    while index_of_first_element <= index_of_last_element:\n",
    "        mid_point = (index_of_first_element + index_of_last_element) // 2\n",
    "        \n",
    "        if ordered_list[mid_point] == term:\n",
    "            return mid_point\n",
    "        \n",
    "        if term > ordered_list[mid_point]:\n",
    "            index_of_first_element = mid_point + 1\n",
    "        else:\n",
    "            index_of_last_element = mid_point - 1\n",
    "            \n",
    "    if index_of_first_element > index_of_last_element:\n",
    "        return 'Element not found'"
   ]
  },
  {
   "cell_type": "code",
   "execution_count": 29,
   "metadata": {},
   "outputs": [
    {
     "data": {
      "text/plain": [
       "4"
      ]
     },
     "execution_count": 29,
     "metadata": {},
     "output_type": "execute_result"
    }
   ],
   "source": [
    "a = [6,7,8,9,10]\n",
    "\n",
    "binary_search(a, 10)"
   ]
  },
  {
   "cell_type": "code",
   "execution_count": null,
   "metadata": {},
   "outputs": [],
   "source": [
    "def binary_search_r(ordered_list, first_element_index, last_element_index, term):\n",
    "    if last_element_index <"
   ]
  },
  {
   "cell_type": "markdown",
   "metadata": {},
   "source": []
  },
  {
   "cell_type": "code",
   "execution_count": null,
   "metadata": {},
   "outputs": [],
   "source": []
  }
 ],
 "metadata": {
  "kernelspec": {
   "display_name": "Python 3",
   "language": "python",
   "name": "python3"
  },
  "language_info": {
   "codemirror_mode": {
    "name": "ipython",
    "version": 3
   },
   "file_extension": ".py",
   "mimetype": "text/x-python",
   "name": "python",
   "nbconvert_exporter": "python",
   "pygments_lexer": "ipython3",
   "version": "3.6.6"
  }
 },
 "nbformat": 4,
 "nbformat_minor": 2
}
