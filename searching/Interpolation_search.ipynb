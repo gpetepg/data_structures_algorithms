{
 "cells": [
  {
   "cell_type": "markdown",
   "metadata": {},
   "source": [
    "# Interpolation Search\n",
    "\n",
    "Interpolation search is an algorithm for searching for a key in an array that has been ordered by numerical values assigned to the keys.\n",
    "\n",
    "- Step 1 − Start searching data from middle of the list.\n",
    "- Step 2 − If it is a match, return the index of the item, and exit.\n",
    "- Step 3 − If it is not a match, probe position.\n",
    "- Step 4 − Divide the list using probing formula and find the new midle.\n",
    "- Step 5 − If data is greater than middle, search in higher sub-list.\n",
    "- Step 6 − If data is smaller than middle, search in lower sub-list.\n",
    "- Step 7 − Repeat until match."
   ]
  },
  {
   "cell_type": "markdown",
   "metadata": {},
   "source": [
    "# Psudeo Code\n",
    "\n",
    "```\n",
    "A → Array list\n",
    "N → Size of A\n",
    "X → Target Value\n",
    "\n",
    "Procedure Interpolation_Search()\n",
    "\n",
    "   Set Lo  →  0\n",
    "   Set Mid → -1\n",
    "   Set Hi  →  N-1\n",
    "\n",
    "   While X does not match\n",
    "   \n",
    "      if Lo equals to Hi OR A[Lo] equals to A[Hi]\n",
    "         EXIT: Failure, Target not found\n",
    "      end if\n",
    "      \n",
    "      Set Mid = Lo + ((Hi - Lo) / (A[Hi] - A[Lo])) * (X - A[Lo]) \n",
    "\n",
    "      if A[Mid] = X\n",
    "         EXIT: Success, Target found at Mid\n",
    "      else \n",
    "         if A[Mid] < X\n",
    "            Set Lo to Mid+1\n",
    "         else if A[Mid] > X\n",
    "            Set Hi to Mid-1\n",
    "         end if\n",
    "      end if\n",
    "   End While\n",
    "\n",
    "End Procedure\n",
    "```"
   ]
  },
  {
   "cell_type": "markdown",
   "metadata": {},
   "source": [
    "<b>References and resources:</b>\n",
    "- Python Data Structures and Algorithms by Benjamin Baka\n",
    "- [Wikipedia](https://en.wikipedia.org/wiki/Interpolation_search)\n",
    "- https://www.tutorialspoint.com/data_structures_algorithms/interpolation_search_algorithm.htm\n",
    "- https://www.geeksforgeeks.org/interpolation-search/"
   ]
  },
  {
   "cell_type": "code",
   "execution_count": null,
   "metadata": {},
   "outputs": [],
   "source": [
    "# # Uncomment to use inline pythontutor\n",
    "\n",
    "# from IPython.display import IFrame\n",
    "\n",
    "# IFrame('http://www.pythontutor.com/visualize.html#mode=display', height=750, width=750)"
   ]
  },
  {
   "cell_type": "markdown",
   "metadata": {},
   "source": [
    "Example 1"
   ]
  },
  {
   "cell_type": "code",
   "execution_count": 55,
   "metadata": {},
   "outputs": [
    {
     "data": {
      "text/plain": [
       "5.41747572815534"
      ]
     },
     "execution_count": 55,
     "metadata": {},
     "output_type": "execute_result"
    }
   ],
   "source": [
    "def nearest_mid(input_list, lower_bound_index, upper_bound_index, search_value):\n",
    "    \n",
    "    return (lower_bound_index + ((upper_bound_index - lower_bound_index) /\n",
    "           (input_list[upper_bound_index] - input_list[lower_bound_index])) *\n",
    "           (search_value - input_list[lower_bound_index]))\n",
    "\n",
    "lst = [44, 60, 75, 100, 120, 230, 250]\n",
    "\n",
    "nearest_mid(lst, 0, 6, 230)"
   ]
  },
  {
   "cell_type": "code",
   "execution_count": 68,
   "metadata": {},
   "outputs": [],
   "source": [
    "def interpolation_search(ordered_list, term):\n",
    "    \n",
    "    size_of_list = len(ordered_list) - 1\n",
    "    index_of_first_element = 0\n",
    "    index_of_last_element = size_of_list\n",
    "    \n",
    "    while index_of_first_element <= index_of_last_element:\n",
    "        mid_point = int(nearest_mid(ordered_list, index_of_first_element, index_of_last_element, term))\n",
    "        \n",
    "        if mid_point > index_of_last_element or mid_point < index_of_first_element:\n",
    "            return None\n",
    "        \n",
    "        if ordered_list[mid_point] == term:\n",
    "            return mid_point\n",
    "        \n",
    "        if term > ordered_list[mid_point]:\n",
    "            index_of_first_element = mid_point + 1\n",
    "        else:\n",
    "            index_of_last_element = mid_point - 1\n",
    "            \n",
    "    if index_of_first_element > index_of_last_element:\n",
    "        return None"
   ]
  },
  {
   "cell_type": "code",
   "execution_count": 71,
   "metadata": {},
   "outputs": [
    {
     "data": {
      "text/plain": [
       "5"
      ]
     },
     "execution_count": 71,
     "metadata": {},
     "output_type": "execute_result"
    }
   ],
   "source": [
    "interpolation_search(lst, 230)"
   ]
  },
  {
   "cell_type": "markdown",
   "metadata": {},
   "source": [
    "Example 2"
   ]
  },
  {
   "cell_type": "code",
   "execution_count": 52,
   "metadata": {},
   "outputs": [
    {
     "data": {
      "text/plain": [
       "6"
      ]
     },
     "execution_count": 52,
     "metadata": {},
     "output_type": "execute_result"
    }
   ],
   "source": [
    "# If x is present in arr[0..n-1], then returns pos, if not returns 'Element not found'\n",
    "def interpolation_search(arr, x): \n",
    "    # Find indexs of two corners \n",
    "    lo = 0\n",
    "    hi = (len(arr) - 1) \n",
    "   \n",
    "    # Since array is sorted, an element present in array must be in range defined by corner.\n",
    "    while lo <= hi and x >= arr[lo] and x <= arr[hi]: \n",
    "        # Probing the position with keeping uniform distribution in mind. \n",
    "        pos  = lo + int(((float(hi - lo) / (arr[hi] - arr[lo])) * ( x - arr[lo]))) \n",
    "  \n",
    "        # Condition of target found \n",
    "        if arr[pos] == x: \n",
    "            return pos \n",
    "   \n",
    "        # If x is larger, x is in upper part \n",
    "        if arr[pos] < x: \n",
    "            lo = pos + 1; \n",
    "   \n",
    "        # If x is smaller, x is in lower part \n",
    "        else: \n",
    "            hi = pos - 1; \n",
    "      \n",
    "    return \"Element not found\"\n",
    "  \n",
    "\n",
    "arr = [10, 12, 13, 16, 18, 19, 20, 21, 22, 23, 24, 33, 35, 42, 47] \n",
    "interpolationSearch(arr, 20) "
   ]
  }
 ],
 "metadata": {
  "kernelspec": {
   "display_name": "Python 3",
   "language": "python",
   "name": "python3"
  },
  "language_info": {
   "codemirror_mode": {
    "name": "ipython",
    "version": 3
   },
   "file_extension": ".py",
   "mimetype": "text/x-python",
   "name": "python",
   "nbconvert_exporter": "python",
   "pygments_lexer": "ipython3",
   "version": "3.6.6"
  }
 },
 "nbformat": 4,
 "nbformat_minor": 2
}
