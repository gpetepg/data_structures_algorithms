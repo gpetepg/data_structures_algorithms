{
 "cells": [
  {
   "cell_type": "markdown",
   "metadata": {},
   "source": [
    "# Linear Search\n",
    "\n",
    "Linear search or sequential search is a method for finding an element within a list. It sequentially checks each element of the list until a match is found or the whole list has been searched."
   ]
  },
  {
   "cell_type": "markdown",
   "metadata": {},
   "source": [
    "<b>References and resources:</b>\n",
    "- Python Data Structures and Algorithms by Benjamin Baka\n",
    "- [Wikipedia](https://en.wikipedia.org/wiki/Linear_search)"
   ]
  },
  {
   "cell_type": "markdown",
   "metadata": {},
   "source": [
    "# Unordered Linear Search\n",
    "\n",
    "When a list is unordered."
   ]
  },
  {
   "cell_type": "code",
   "execution_count": 63,
   "metadata": {},
   "outputs": [],
   "source": [
    "def ul_search(unordered_list, term):\n",
    "    \"\"\"\n",
    "    Set the list size to the len of the unordered list.\n",
    "    Iterate throught the list, if the search term is == to the element at the index return the index number.\n",
    "    \"\"\"\n",
    "    unordered_list_size = len(unordered_list)\n",
    "    for i in range(unordered_list_size):\n",
    "        if term == unordered_list[i]:\n",
    "            return i\n",
    "    return 'Element not found'"
   ]
  },
  {
   "cell_type": "code",
   "execution_count": 64,
   "metadata": {},
   "outputs": [
    {
     "data": {
      "text/plain": [
       "4"
      ]
     },
     "execution_count": 64,
     "metadata": {},
     "output_type": "execute_result"
    }
   ],
   "source": [
    "lst = [60, 1, 88, 10, 100]\n",
    "\n",
    "ul_search(lst, 100)"
   ]
  },
  {
   "cell_type": "code",
   "execution_count": 65,
   "metadata": {},
   "outputs": [
    {
     "data": {
      "text/plain": [
       "'Element not found'"
      ]
     },
     "execution_count": 65,
     "metadata": {},
     "output_type": "execute_result"
    }
   ],
   "source": [
    "ul_search(lst, 66)"
   ]
  },
  {
   "cell_type": "markdown",
   "metadata": {},
   "source": [
    "# Ordered Linear Search\n",
    "\n",
    "When a list is ordered. We can avoid traversing the whole list by putting in a conditional depending if the list is in ascending or descending order."
   ]
  },
  {
   "cell_type": "code",
   "execution_count": 66,
   "metadata": {},
   "outputs": [],
   "source": [
    "def ol_search(ordered_list, term):\n",
    "    \"\"\"\n",
    "    This assumes the list is in ascending order. The commented portion is for descending order\n",
    "    \n",
    "    Because we are in an ordered search if the element is > than the term we are looking for \n",
    "    we know the element is not in the list.\n",
    "    \"\"\"\n",
    "    ordered_list_size = len(ordered_list)\n",
    "    for i in range(ordered_list_size):\n",
    "        if term == ordered_list[i]:\n",
    "            return i\n",
    "        elif ordered_list[i] > term:  # elif unordered_list[i] < term: \n",
    "            return 'Element not found'"
   ]
  },
  {
   "cell_type": "code",
   "execution_count": 73,
   "metadata": {},
   "outputs": [
    {
     "data": {
      "text/plain": [
       "1"
      ]
     },
     "execution_count": 73,
     "metadata": {},
     "output_type": "execute_result"
    }
   ],
   "source": [
    "lst = [4,6,8,12]\n",
    "\n",
    "ol_search(lst, 6)"
   ]
  }
 ],
 "metadata": {
  "kernelspec": {
   "display_name": "Python 3",
   "language": "python",
   "name": "python3"
  },
  "language_info": {
   "codemirror_mode": {
    "name": "ipython",
    "version": 3
   },
   "file_extension": ".py",
   "mimetype": "text/x-python",
   "name": "python",
   "nbconvert_exporter": "python",
   "pygments_lexer": "ipython3",
   "version": "3.6.6"
  }
 },
 "nbformat": 4,
 "nbformat_minor": 2
}
