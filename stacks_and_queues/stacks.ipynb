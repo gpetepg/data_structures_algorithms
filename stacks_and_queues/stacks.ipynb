{
 "cells": [
  {
   "cell_type": "markdown",
   "metadata": {},
   "source": [
    "# Stacks\n",
    "\n",
    "Stacks allow adding and removing elements in a particular order. Every time an element is added, it is added to the top of the stack. For the element to be removed it has to be the element that is at the top of the stack, just like a pile of objects. (Think of washing a stack of dirty plates)\n",
    "\n",
    "Stacks are a `last in first out` of `LIFO` data structure (push/pop).\n",
    "\n",
    "Analysis of stack operations. Time complexities for various operations that can be performed on the stack data structure.\n",
    "- Push Operation : O(1)\n",
    "- Pop Operation : O(1)\n",
    "- Top Operation : O(1)\n",
    "- Search Operation : O(n)"
   ]
  },
  {
   "cell_type": "markdown",
   "metadata": {},
   "source": [
    "<b>References and resources:</b>\n",
    "- Python Data Structures and Algorithms by Benjamin Baka\n",
    "- [Stacks by Study Tonight](https://www.studytonight.com/data-structures/stack-data-structure)"
   ]
  },
  {
   "cell_type": "code",
   "execution_count": null,
   "metadata": {},
   "outputs": [],
   "source": [
    "# # Uncomment to use inline pythontutor\n",
    "\n",
    "# from IPython.display import IFrame\n",
    "\n",
    "# IFrame('http://www.pythontutor.com/visualize.html#mode=display', height=1500, width=750)"
   ]
  },
  {
   "cell_type": "code",
   "execution_count": 1,
   "metadata": {},
   "outputs": [],
   "source": [
    "class Node:\n",
    "    \"\"\"\n",
    "    Simple Node class\n",
    "    \"\"\"\n",
    "    def __init__(self, value):\n",
    "        self.value = value\n",
    "        self.next = None\n",
    "        self.size = 0"
   ]
  },
  {
   "cell_type": "code",
   "execution_count": 2,
   "metadata": {},
   "outputs": [],
   "source": [
    "class Stack:\n",
    "    \"\"\"\n",
    "    Class for stack implementation and push operation\n",
    "    \"\"\"\n",
    "    def __init__(self):\n",
    "        self.top = None\n",
    "        self.size = 0\n",
    "        \n",
    "        \n",
    "    def push(self, value):\n",
    "        \"\"\"\n",
    "        Adding to the top of the stack or pushing current top down 1.\n",
    "        \"\"\"\n",
    "        node = Node(value)\n",
    "        if self.top:  \n",
    "            node.next = self.top # If there is a node, make the current top next in line\n",
    "            self.top = node  # Set top to this node\n",
    "        else:\n",
    "            self.top = node  # If there isn't a node, this is the top\n",
    "        self.size += 1"
   ]
  },
  {
   "cell_type": "code",
   "execution_count": 3,
   "metadata": {},
   "outputs": [],
   "source": [
    "stack = Stack()"
   ]
  },
  {
   "cell_type": "code",
   "execution_count": 4,
   "metadata": {},
   "outputs": [],
   "source": [
    "stack.push('hello')\n",
    "stack.push('world')"
   ]
  },
  {
   "cell_type": "code",
   "execution_count": 5,
   "metadata": {},
   "outputs": [
    {
     "data": {
      "text/plain": [
       "'world'"
      ]
     },
     "execution_count": 5,
     "metadata": {},
     "output_type": "execute_result"
    }
   ],
   "source": [
    "stack.top.value"
   ]
  },
  {
   "cell_type": "code",
   "execution_count": 6,
   "metadata": {},
   "outputs": [
    {
     "data": {
      "text/plain": [
       "'world'"
      ]
     },
     "execution_count": 6,
     "metadata": {},
     "output_type": "execute_result"
    }
   ],
   "source": [
    "stack.top.value"
   ]
  },
  {
   "cell_type": "markdown",
   "metadata": {},
   "source": [
    "<b>Pop</b>"
   ]
  },
  {
   "cell_type": "code",
   "execution_count": 7,
   "metadata": {},
   "outputs": [],
   "source": [
    "class Stack:\n",
    "    def __init__(self):\n",
    "        self.top = None\n",
    "        self.size = 0\n",
    "        \n",
    "        \n",
    "    def push(self, value):\n",
    "        node = Node(value)\n",
    "        if self.top:\n",
    "            node.next = self.top\n",
    "            self.top = node\n",
    "        else:\n",
    "            self.top = node\n",
    "        self.size += 1\n",
    "        \n",
    "        \n",
    "    def pop(self):\n",
    "        \"\"\"\n",
    "        Poping self.top and return it's value.\n",
    "        \"\"\"\n",
    "        if self.top:  # If there is a self.top\n",
    "            value = self.top.value  # set the value of the value so we can return it\n",
    "            self.size -= 1  # Remove 1 from size\n",
    "            if self.top.next:  # If the top node has its next attribute pointing to another node, then we must set the top of the stack to now point to that node\n",
    "                self.top = self.top.next  # setting the next self.top\n",
    "            else:\n",
    "                self.top = None  # If there is no next, then set it to None, meaning there was only one item in the stack\n",
    "            return value\n",
    "        else:\n",
    "            return None"
   ]
  },
  {
   "cell_type": "markdown",
   "metadata": {},
   "source": [
    "<b>Peak and iteration</b>"
   ]
  },
  {
   "cell_type": "code",
   "execution_count": 8,
   "metadata": {},
   "outputs": [],
   "source": [
    "class Stack:\n",
    "    def __init__(self):\n",
    "        self.top = None\n",
    "        self.size = 0\n",
    "        \n",
    "        \n",
    "    def push(self, value):\n",
    "        node = Node(value)\n",
    "        if self.top:\n",
    "            node.next = self.top\n",
    "            self.top = node\n",
    "        else:\n",
    "            self.top = node\n",
    "        self.size += 1\n",
    "        \n",
    "        \n",
    "    def pop(self):\n",
    "        \"\"\"\n",
    "        Poping self.top and return it's value.\n",
    "        \"\"\"\n",
    "        if self.top:\n",
    "            value = self.top.value \n",
    "            self.size -= 1  \n",
    "            if self.top.next:\n",
    "                self.top = self.top.next \n",
    "            else:\n",
    "                self.top = None  \n",
    "            return value\n",
    "        else:\n",
    "            return None\n",
    "\n",
    "        \n",
    "    def peak(self):\n",
    "        \"\"\"\n",
    "        Return the value of self.top\n",
    "        \"\"\"\n",
    "        if self.top:\n",
    "            return self.top.value\n",
    "        else:\n",
    "            return None\n",
    "        \n",
    "        \n",
    "    def iterate(self):  # Should return in reverse order\n",
    "        current = self.top\n",
    "        while self.top:\n",
    "            yield self.top.value\n",
    "            self.top = self.top.next\n",
    "            "
   ]
  },
  {
   "cell_type": "code",
   "execution_count": 9,
   "metadata": {},
   "outputs": [],
   "source": [
    "stack = Stack()\n",
    "\n",
    "stack.push('hello')\n",
    "stack.push('world')\n",
    "stack.push('goodbye')"
   ]
  },
  {
   "cell_type": "code",
   "execution_count": 10,
   "metadata": {},
   "outputs": [],
   "source": [
    "to_iter = stack.iterate"
   ]
  },
  {
   "cell_type": "code",
   "execution_count": 11,
   "metadata": {},
   "outputs": [
    {
     "name": "stdout",
     "output_type": "stream",
     "text": [
      "goodbye\n",
      "world\n",
      "hello\n"
     ]
    }
   ],
   "source": [
    "for word in to_iter():\n",
    "    print(word)"
   ]
  },
  {
   "cell_type": "markdown",
   "metadata": {},
   "source": [
    "<b>Application</b>\n",
    "\n",
    "Example from Python Data Structures and Algorithms by Benjamin Baka"
   ]
  },
  {
   "cell_type": "markdown",
   "metadata": {},
   "source": [
    "How we can implement our stack"
   ]
  },
  {
   "cell_type": "code",
   "execution_count": 27,
   "metadata": {},
   "outputs": [],
   "source": [
    "def check_brackets(n):\n",
    "    stack = Stack()\n",
    "    for x in n:\n",
    "        if x in ('{', '[', '('):\n",
    "            stack.push(x)\n",
    "        if x in ('}', ']', ')'):\n",
    "            last = stack.pop()\n",
    "            if last is '{' and x is '}':\n",
    "                continue\n",
    "            elif last is '[' and x is ']':\n",
    "                continue\n",
    "            elif last is '(' and x is ')':\n",
    "                continue\n",
    "            else:\n",
    "                return False\n",
    "    if stack.size > 0:\n",
    "        return False\n",
    "    else:\n",
    "        return True"
   ]
  },
  {
   "cell_type": "markdown",
   "metadata": {},
   "source": [
    "The function parses each character in the statement passed to it. If it gets an open bracket\n",
    "it pushes into the stack. If it gets a closing bracket it pops the top element and compares the bracket to make sure\n",
    "it ends in a matching type, this will return true, if not it returns false. \n",
    "Once it's done parsing, we have one more check, if the stack is empty we can return True, if its not then we know\n",
    "it did not have a closing bracket and return False."
   ]
  },
  {
   "cell_type": "code",
   "execution_count": 28,
   "metadata": {},
   "outputs": [],
   "source": [
    "sl = (\n",
    "    \"{(food) (bar)} [hello] (((this)is)a)test\",\n",
    "    \"{(food) (bar)} [hello] (((this)is)atest\",\n",
    "    \"{(food) (bar)} [hello] (((this)is)a)test))\",\n",
    ")"
   ]
  },
  {
   "cell_type": "code",
   "execution_count": 32,
   "metadata": {},
   "outputs": [
    {
     "name": "stdout",
     "output_type": "stream",
     "text": [
      "True\n",
      "False\n",
      "False\n"
     ]
    }
   ],
   "source": [
    "for s in sl:\n",
    "    print(check_brackets(s))"
   ]
  }
 ],
 "metadata": {
  "kernelspec": {
   "display_name": "Python 3",
   "language": "python",
   "name": "python3"
  },
  "language_info": {
   "codemirror_mode": {
    "name": "ipython",
    "version": 3
   },
   "file_extension": ".py",
   "mimetype": "text/x-python",
   "name": "python",
   "nbconvert_exporter": "python",
   "pygments_lexer": "ipython3",
   "version": "3.6.6"
  }
 },
 "nbformat": 4,
 "nbformat_minor": 2
}
