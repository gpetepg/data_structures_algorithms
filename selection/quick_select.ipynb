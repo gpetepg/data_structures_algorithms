{
 "cells": [
  {
   "cell_type": "markdown",
   "metadata": {},
   "source": [
    "# Quick Select"
   ]
  },
  {
   "cell_type": "markdown",
   "metadata": {},
   "source": [
    "<b>References and resources:</b>\n",
    "- Python Data Structures and Algorithms by Benjamin Baka\n",
    "- [Stack Overflow](https://stackoverflow.com/questions/22289877/quickselect-algorithm)\n",
    "- https://www.geeksforgeeks.org/quickselect-algorithm/\n",
    "- [Wikipedia](https://en.wikipedia.org/wiki/Quickselect)"
   ]
  },
  {
   "cell_type": "markdown",
   "metadata": {},
   "source": [
    "Quick selection is a selection algorithm to find the k-th smallest element in an unordered list. It is related to the \n",
    "\n",
    "The algorithm is similar to QuickSort. The difference is, instead of recurring for both sides (after finding pivot), it recurs only for the part that contains the k-th smallest element. The logic is simple, if index of partitioned element is more than k, then we recur for left part. If index is same as k, we have found the k-th smallest element and we return. If index is less than k, then we recur for right part."
   ]
  },
  {
   "cell_type": "markdown",
   "metadata": {},
   "source": [
    "<b>Psuedo code:</b>\n",
    "\n",
    "    function quickSelect(list, left, right, k)\n",
    "\n",
    "       if left = right\n",
    "          return list[left]\n",
    "\n",
    "       Select a pivotIndex between left and right\n",
    "\n",
    "       pivotIndex := partition(list, left, right, pivotIndex)\n",
    "                                    \n",
    "       if k = pivotIndex\n",
    "          return list[k]\n",
    "       else if k < pivotIndex\n",
    "          right := pivotIndex - 1\n",
    "       else\n",
    "          left := pivotIndex + 1"
   ]
  },
  {
   "cell_type": "code",
   "execution_count": 3,
   "metadata": {},
   "outputs": [
    {
     "name": "stdout",
     "output_type": "stream",
     "text": [
      "[1, 2, 5, 10, 8, 3, 4]\n",
      "[1, 2, 3, 4, 8, 5, 10]\n",
      "2\n"
     ]
    }
   ],
   "source": [
    "def partition(lst, first, last):\n",
    "    pivot = lst[last]\n",
    "    i = first-1\n",
    "    for j in range(first, last):\n",
    "        if lst[j] <= pivot:\n",
    "            i += 1\n",
    "            lst[i], lst[j] = lst[j], lst[i]\n",
    "    lst[i+1], lst[last] = lst[last], lst[i+1]\n",
    "    print(lst)\n",
    "    return i+1\n",
    "\n",
    "\n",
    "def selection(lst, first, last, k):\n",
    "    # Handle possibility that first >= last, so we only have\n",
    "    # one element remaining in the sublist\n",
    "    if first >= last:\n",
    "        return lst[k]\n",
    "    pivot = lst[last]\n",
    "    pivotIndex = partition(lst, first, last)\n",
    "    if k < pivotIndex:\n",
    "        return selection(lst, first, pivotIndex-1, k)\n",
    "    else:\n",
    "        # k is left as it is\n",
    "        return selection(lst, pivotIndex+1, last, k)\n",
    "    \n",
    "\n",
    "print(selection([5,4,1,10,8,3,2], 0, 6, 1))"
   ]
  }
 ],
 "metadata": {
  "kernelspec": {
   "display_name": "Python 3",
   "language": "python",
   "name": "python3"
  },
  "language_info": {
   "codemirror_mode": {
    "name": "ipython",
    "version": 3
   },
   "file_extension": ".py",
   "mimetype": "text/x-python",
   "name": "python",
   "nbconvert_exporter": "python",
   "pygments_lexer": "ipython3",
   "version": "3.6.6"
  }
 },
 "nbformat": 4,
 "nbformat_minor": 2
}
