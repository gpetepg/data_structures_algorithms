{
 "cells": [
  {
   "cell_type": "markdown",
   "metadata": {},
   "source": [
    "# Bubble Sort\n",
    "\n",
    "Bubble sort, sometimes referred to as sinking sort, is a simple sorting algorithm that repeatedly steps through the list, compares adjacent pairs and swaps them if they are in the wrong order. The pass through the list is repeated until the list is sorted.\n",
    "\n",
    "Given an unordered list, we compare adjacent elements in the list, each time putting them in the right order of magnitude. The algorithm hinges on a swap procedure.\n",
    "\n",
    "It is a slow algorithm, better for small lists."
   ]
  },
  {
   "cell_type": "markdown",
   "metadata": {},
   "source": [
    "<b>References and resources:</b>\n",
    "- Python Data Structures and Algorithms by Benjamin Baka\n",
    "- [YouTube: Python: BubbleSort algorithm](https://www.youtube.com/watch?v=YHm_4bVOe1s)<sup>[1]</sup>\n",
    "- [YouTube: Bubble sort in 2 minutes](https://www.youtube.com/watch?v=xli_FI7CuzA&index=4&list=PL9xmBV_5YoZOZSbGAXAPIq1BeUf4j20pl&t=0s)\n",
    "- https://www.geeksforgeeks.org/python-program-for-bubble-sort/\n",
    "- [Wikipedia](https://en.wikipedia.org/wiki/Bubble_sort)\n",
    "\n",
    "<sub>[1] [code](https://github.com/joeyajames/Python/blob/master/Sorting%20Algorithms/bubble_sort.py)<sub>"
   ]
  },
  {
   "cell_type": "code",
   "execution_count": 3,
   "metadata": {},
   "outputs": [],
   "source": [
    "# # Uncomment to use inline pythontutor\n",
    "\n",
    "# from IPython.display import IFrame\n",
    "\n",
    "# IFrame('http://www.pythontutor.com/visualize.html#mode=display', height=750, width=750)"
   ]
  },
  {
   "cell_type": "markdown",
   "metadata": {},
   "source": [
    "Example 1"
   ]
  },
  {
   "cell_type": "code",
   "execution_count": 16,
   "metadata": {},
   "outputs": [
    {
     "name": "stdout",
     "output_type": "stream",
     "text": [
      "[64, 34, 25, 12, 22, 11, 90]\n"
     ]
    },
    {
     "data": {
      "text/plain": [
       "[11, 12, 22, 25, 34, 64, 90]"
      ]
     },
     "execution_count": 16,
     "metadata": {},
     "output_type": "execute_result"
    }
   ],
   "source": [
    "def bubble_sort(array):\n",
    "    n = len(array)\n",
    " \n",
    "    # Traverse through all array elements\n",
    "    for i in range(n):\n",
    " \n",
    "        # Last i elements are already in place\n",
    "        for j in range(0, n-i-1):\n",
    " \n",
    "            # traverse the array from 0 to n-i-1, we do this because we know the last element is now in place\n",
    "            # Swap if the element found is greater\n",
    "            # than the next element\n",
    "            if array[j] > array[j+1] : # Comparing item to item on its right\n",
    "                array[j], array[j+1] = array[j+1], array[j] # If the item is is larger we swap them.\n",
    "    \n",
    "    return array\n",
    "                \n",
    "lst = [64, 34, 25, 12, 22, 11, 90]\n",
    " \n",
    "print(lst)\n",
    "bubble_sort(lst)"
   ]
  },
  {
   "cell_type": "markdown",
   "metadata": {},
   "source": [
    "Example 2"
   ]
  },
  {
   "cell_type": "code",
   "execution_count": 21,
   "metadata": {},
   "outputs": [
    {
     "name": "stdout",
     "output_type": "stream",
     "text": [
      "[5, 9, 1, 2, 4, 8, 6, 3, 7]\n"
     ]
    },
    {
     "data": {
      "text/plain": [
       "[1, 2, 3, 4, 5, 6, 7, 8, 9]"
      ]
     },
     "execution_count": 21,
     "metadata": {},
     "output_type": "execute_result"
    }
   ],
   "source": [
    "# not optimized            \n",
    "def bubble_sort1(array):\n",
    "    for i in range (0, len(array) - 1):\n",
    "        for j in range (0, len(array) - i - 1):\n",
    "            if array[j] > array[j+1]:\n",
    "                array[j], array[j+1] = array[j+1], array[j]\n",
    "    return array\n",
    "                \n",
    "            \n",
    "lst = [5,9,1,2,4,8,6,3,7]\n",
    "\n",
    "print(lst)\n",
    "bubble_sort1(lst)"
   ]
  },
  {
   "cell_type": "code",
   "execution_count": 22,
   "metadata": {},
   "outputs": [
    {
     "name": "stdout",
     "output_type": "stream",
     "text": [
      "[5, 9, 1, 2, 4, 8, 6, 3, 7]\n"
     ]
    },
    {
     "data": {
      "text/plain": [
       "[1, 2, 3, 4, 5, 6, 7, 8, 9]"
      ]
     },
     "execution_count": 22,
     "metadata": {},
     "output_type": "execute_result"
    }
   ],
   "source": [
    "# optimized to exit if no swaps occur        \n",
    "def bubble_sort2(array):\n",
    "    for i in range (0, len(array) - 1):\n",
    "        done = True\n",
    "        for j in range (0, len(array) - i - 1):\n",
    "            if array[j] > array[j+1]:\n",
    "                array[j], array[j+1] = array[j+1], array[j]\n",
    "                done = False\n",
    "        if done:\n",
    "            return array\n",
    "\n",
    "lst = [5,9,1,2,4,8,6,3,7]\n",
    "\n",
    "print(lst)\n",
    "bubble_sort2(lst)"
   ]
  }
 ],
 "metadata": {
  "kernelspec": {
   "display_name": "Python 3",
   "language": "python",
   "name": "python3"
  },
  "language_info": {
   "codemirror_mode": {
    "name": "ipython",
    "version": 3
   },
   "file_extension": ".py",
   "mimetype": "text/x-python",
   "name": "python",
   "nbconvert_exporter": "python",
   "pygments_lexer": "ipython3",
   "version": "3.6.6"
  }
 },
 "nbformat": 4,
 "nbformat_minor": 2
}
