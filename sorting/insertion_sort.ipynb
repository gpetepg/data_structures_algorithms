{
 "cells": [
  {
   "cell_type": "markdown",
   "metadata": {},
   "source": [
    "# Insertion Sort\n",
    "\n",
    "Insertion sort is a simple sorting algorithm that builds the final sorted array (or list) one item at a time. It is much less efficient on large lists than more advanced algorithms such as quicksort, heapsort, or merge sort.\n",
    "\n",
    "While insertion sorting we assume part of the list or array is already sorted being. For example\n",
    "\n",
    "\n",
    "This is our list to sort `[7, 8, 5, 4, 9, 2]`\n",
    "\n",
    "`[7]` as we insert the first element into the sorted list it is already correctly sorted because it only has 1 element.\n",
    "\n",
    "`[7, 8]` Inserting 8\n",
    "\n",
    "`[5, 7, 8]` Inserting 5 and so on and so forth until the whole list is sorted"
   ]
  },
  {
   "cell_type": "markdown",
   "metadata": {},
   "source": [
    "<b>References and resources:</b>\n",
    "- Python Data Structures and Algorithms by Benjamin Baka\n",
    "- [YouTube: Python: InsertionSort algorithm](https://www.youtube.com/watch?v=Nkw6Jg_Gi4w)<sup>[1]</sup>\n",
    "- https://www.geeksforgeeks.org/insertion-sort/\n",
    "- [Wikipedia](https://en.wikipedia.org/wiki/Insertion_sort)\n",
    "\n",
    "<sub>[1] [code](https://github.com/joeyajames/Python/blob/master/Sorting%20Algorithms/insertion_sort.py)<sub>"
   ]
  },
  {
   "cell_type": "code",
   "execution_count": null,
   "metadata": {},
   "outputs": [],
   "source": [
    "# # Uncomment to use inline pythontutor\n",
    "\n",
    "# from IPython.display import IFrame\n",
    "\n",
    "# IFrame('http://www.pythontutor.com/visualize.html#mode=display', height=1500, width=750)"
   ]
  },
  {
   "cell_type": "code",
   "execution_count": 11,
   "metadata": {},
   "outputs": [
    {
     "name": "stdout",
     "output_type": "stream",
     "text": [
      "[12, 11, 13, 5, 6]\n"
     ]
    },
    {
     "data": {
      "text/plain": [
       "[5, 6, 11, 12, 13]"
      ]
     },
     "execution_count": 11,
     "metadata": {},
     "output_type": "execute_result"
    }
   ],
   "source": [
    "def insertionSort(array): \n",
    "  \n",
    "    '''Traverse through 1 to len(array)''' \n",
    "    for i in range(1, len(array)): \n",
    "  \n",
    "        key = array[i] \n",
    "        '''\n",
    "        Move elements of array[0..i-1], that are \n",
    "        greater than key, to one position ahead \n",
    "        of their current position \n",
    "        '''\n",
    "        j = i-1\n",
    "        while j >=0 and key < array[j] : \n",
    "                array[j+1] = array[j] \n",
    "                j -= 1\n",
    "        array[j+1] = key \n",
    "    return array\n",
    "\n",
    "lst = [12, 11, 13, 5, 6] \n",
    "\n",
    "print(lst)\n",
    "insertionSort(lst)"
   ]
  },
  {
   "cell_type": "markdown",
   "metadata": {},
   "source": [
    "Example 2"
   ]
  },
  {
   "cell_type": "code",
   "execution_count": 7,
   "metadata": {},
   "outputs": [
    {
     "name": "stdout",
     "output_type": "stream",
     "text": [
      "[5, 9, 1, 2, 4, 8, 6, 3, 7]\n"
     ]
    },
    {
     "data": {
      "text/plain": [
       "[1, 2, 3, 4, 5, 6, 7, 8, 9]"
      ]
     },
     "execution_count": 7,
     "metadata": {},
     "output_type": "execute_result"
    }
   ],
   "source": [
    "# not optimized, equiv to while version below, but uses for loop\n",
    "def insertion_sort1(array):\n",
    "    for i in range(1, len(array)):\n",
    "        for j in range(i-1, -1, -1):\n",
    "            if array[j] > array[j+1]:\n",
    "                array[j], array[j+1] = array[j+1], array[j]\n",
    "            else:\n",
    "                break\n",
    "    return array\n",
    "                \n",
    "lst = [5,9,1,2,4,8,6,3,7]\n",
    "\n",
    "print(lst)\n",
    "insertion_sort1(lst)"
   ]
  },
  {
   "cell_type": "code",
   "execution_count": 5,
   "metadata": {},
   "outputs": [
    {
     "name": "stdout",
     "output_type": "stream",
     "text": [
      "[5, 9, 1, 2, 4, 8, 6, 3, 7]\n"
     ]
    },
    {
     "data": {
      "text/plain": [
       "[1, 2, 3, 4, 5, 6, 7, 8, 9]"
      ]
     },
     "execution_count": 5,
     "metadata": {},
     "output_type": "execute_result"
    }
   ],
   "source": [
    "# not optimized, equiv to break version, but uses while loop        \n",
    "def insertion_sort2(array):\n",
    "    for i in range(1, len(array)):\n",
    "        j = i-1\n",
    "        while array[j] > array[j+1] arraynd j >= 0:\n",
    "            array[j], array[j+1] = array[j+1], array[j]\n",
    "            j -= 1\n",
    "    return array\n",
    "            \n",
    "lst = [5,9,1,2,4,8,6,3,7]\n",
    "\n",
    "print(lst)\n",
    "insertion_sort2(lst)"
   ]
  },
  {
   "cell_type": "code",
   "execution_count": 6,
   "metadata": {},
   "outputs": [
    {
     "name": "stdout",
     "output_type": "stream",
     "text": [
      "[5, 9, 1, 2, 4, 8, 6, 3, 7]\n"
     ]
    },
    {
     "data": {
      "text/plain": [
       "[1, 2, 3, 4, 5, 6, 7, 8, 9]"
      ]
     },
     "execution_count": 6,
     "metadata": {},
     "output_type": "execute_result"
    }
   ],
   "source": [
    "# optimized - shifts instead of swapping        \n",
    "def insertion_sort3(array):\n",
    "    for i in range(1, len(array)):\n",
    "        curNum = array[i]\n",
    "        k = 0\n",
    "        for j in range(i-1, -2, -1):\n",
    "            k = j\n",
    "            if array[j] > curNum:\n",
    "                array[j+1] = array[j]\n",
    "            else:\n",
    "                break\n",
    "        array[k+1] = curNum\n",
    "    return array\n",
    "            \n",
    "lst = [5,9,1,2,4,8,6,3,7]\n",
    "\n",
    "print(lst)\n",
    "insertion_sort3(lst)"
   ]
  }
 ],
 "metadata": {
  "kernelspec": {
   "display_name": "Python 3",
   "language": "python",
   "name": "python3"
  },
  "language_info": {
   "codemirror_mode": {
    "name": "ipython",
    "version": 3
   },
   "file_extension": ".py",
   "mimetype": "text/x-python",
   "name": "python",
   "nbconvert_exporter": "python",
   "pygments_lexer": "ipython3",
   "version": "3.6.6"
  }
 },
 "nbformat": 4,
 "nbformat_minor": 2
}
