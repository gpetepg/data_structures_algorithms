{
 "cells": [
  {
   "cell_type": "markdown",
   "metadata": {},
   "source": [
    "# Quick Sort"
   ]
  },
  {
   "cell_type": "markdown",
   "metadata": {},
   "source": [
    "<b>References and resources:</b>\n",
    "- Python Data Structures and Algorithms by Benjamin Baka\n",
    "- [YouTube: Python: QuickSort algorithm](https://www.youtube.com/watch?v=CB_NCoxzQnk)<sup>[1]</sup>\n",
    "- [YouTube: Quick Sort in 4 minutes](https://www.youtube.com/watch?v=Hoixgm4-P4M)\n",
    "- https://www.geeksforgeeks.org/quick-sort/\n",
    "- [Wikipedia](https://en.wikipedia.org/wiki/Quick_sort)\n",
    "\n",
    "<sub>[1] [code](https://github.com/joeyajames/Python/blob/master/Sorting%20Algorithms/quick_sort.py)<sub>"
   ]
  },
  {
   "cell_type": "code",
   "execution_count": 1,
   "metadata": {},
   "outputs": [],
   "source": [
    "# # Uncomment to use inline pythontutor\n",
    "\n",
    "# from IPython.display import IFrame\n",
    "\n",
    "# IFrame('http://www.pythontutor.com/visualize.html#mode=display', height=750, width=750)"
   ]
  },
  {
   "cell_type": "code",
   "execution_count": null,
   "metadata": {},
   "outputs": [],
   "source": []
  }
 ],
 "metadata": {
  "kernelspec": {
   "display_name": "Python 3",
   "language": "python",
   "name": "python3"
  },
  "language_info": {
   "codemirror_mode": {
    "name": "ipython",
    "version": 3
   },
   "file_extension": ".py",
   "mimetype": "text/x-python",
   "name": "python",
   "nbconvert_exporter": "python",
   "pygments_lexer": "ipython3",
   "version": "3.6.6"
  }
 },
 "nbformat": 4,
 "nbformat_minor": 2
}
