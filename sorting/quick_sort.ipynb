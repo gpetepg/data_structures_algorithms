{
 "cells": [
  {
   "cell_type": "markdown",
   "metadata": {},
   "source": [
    "# Quick Sort"
   ]
  },
  {
   "cell_type": "markdown",
   "metadata": {},
   "source": [
    "<b>References and resources:</b>\n",
    "- Python Data Structures and Algorithms by Benjamin Baka\n",
    "- [YouTube: Python: QuickSort algorithm](https://www.youtube.com/watch?v=CB_NCoxzQnk)<sup>[1]</sup>\n",
    "- [YouTube: Quick Sort in 4 minutes](https://www.youtube.com/watch?v=Hoixgm4-P4M)\n",
    "- https://www.geeksforgeeks.org/quick-sort/\n",
    "- [Wikipedia](https://en.wikipedia.org/wiki/Quick_sort)\n",
    "- [Medium.com article](https://medium.com/basecs/pivoting-to-understand-quicksort-part-1-75178dfb9313)\n",
    "- https://scotchka.github.io/blog/html/2018/11/08/stackless_quicksort.html<sup>[2]</sup>\n",
    "\n",
    "<sub>[1] [code](https://github.com/joeyajames/Python/blob/master/Sorting%20Algorithms/quick_sort.py)<sub>\n",
    "    \n",
    "<sub>[2] [Article](https://bertrandmeyer.com/2014/12/07/lampsort/)<sub>"
   ]
  },
  {
   "cell_type": "markdown",
   "metadata": {},
   "source": [
    "Quick sort is a divide and conquer algorithm. It picks an element as its pivot and partitions the given array around the picked pivot. Done recursively.\n",
    "\n",
    "Generally speaking, the quick sort algorithm does the following:\n",
    " - 1. Selects a pivot\n",
    " - 2. Partitions the unsorted list around the pivot.\n",
    " - 3. Recursively sorts the two halves of he patitioned list using steps 1 and 2.\n",
    "\n",
    "<b>Terminology:</b>\n",
    "\n",
    "<b>Pivot:</b> The pivot is the number we will use to compare against the other items in the list. Selecting a quality pivot is key to the success of your quick sort.\n",
    "\n",
    "There are many different versions of quickSort that pick pivot in different ways.\n",
    "\n",
    " - Always pick first element as pivot.\n",
    " - Always pick last element as pivot.\n",
    " - Pick a random element as pivot.\n",
    " - Pick median as pivot. (Median of 3; first, middle and last elements)\n",
    "\n",
    "<b>Left partion:</b> All elements left of the pivot.\n",
    "\n",
    "<b>Right partion:</b> All elements right of the pivot.\n",
    "\n",
    "<b>Border value:</b> Used for comparison, startes bordering the pivot. If the border is < than the pivot we swap places with that element. This is how the sorting works."
   ]
  },
  {
   "cell_type": "code",
   "execution_count": 1,
   "metadata": {},
   "outputs": [],
   "source": [
    "# # Uncomment to use inline pythontutor\n",
    "\n",
    "# from IPython.display import IFrame\n",
    "\n",
    "# IFrame('http://www.pythontutor.com/visualize.html#mode=display', height=750, width=750)"
   ]
  },
  {
   "cell_type": "code",
   "execution_count": 18,
   "metadata": {
    "scrolled": true
   },
   "outputs": [
    {
     "name": "stdout",
     "output_type": "stream",
     "text": [
      "[5, 9, 1, 2, 4, 8, 6, 3, 7]\n"
     ]
    },
    {
     "data": {
      "text/plain": [
       "[1, 2, 3, 4, 5, 6, 7, 8, 9]"
      ]
     },
     "execution_count": 18,
     "metadata": {},
     "output_type": "execute_result"
    }
   ],
   "source": [
    "def quick_sort(lst):\n",
    "    quick_sort2(lst, 0, len(lst)-1)\n",
    "    return lst\n",
    "    \n",
    "    \n",
    "def quick_sort2(lst, low, hi):\n",
    "    if hi-low < threshold and low < hi: # Use quick sort if list is small enough.\n",
    "        quick_selection(lst, low, hi)\n",
    "    elif low < hi:\n",
    "        p = partition(lst, low, hi)\n",
    "        quick_sort2(lst, low, p - 1) # Handles left partion.\n",
    "        quick_sort2(lst, p + 1, hi) # Handles right partion.\n",
    "\n",
    "        \n",
    "def get_pivot(lst, low, hi):\n",
    "    mid = (hi + low) // 2\n",
    "    s = sorted([lst[low], lst[mid], lst[hi]])\n",
    "    if s[1] == lst[low]:\n",
    "        return low\n",
    "    elif s[1] == lst[mid]:\n",
    "        return mid\n",
    "    return hi\n",
    "\n",
    "\n",
    "def partition(lst, low, hi):\n",
    "    pivotIndex = get_pivot(lst, low, hi)\n",
    "    pivotValue = lst[pivotIndex]\n",
    "    lst[pivotIndex], lst[low] = lst[low], lst[pivotIndex]\n",
    "    border = low\n",
    "\n",
    "    for i in range(low, hi+1):\n",
    "        if lst[i] < pivotValue:\n",
    "            border += 1\n",
    "            lst[i], lst[border] = lst[border], lst[i]\n",
    "    lst[low], lst[border] = lst[border], lst[low]\n",
    "\n",
    "    return (border)\n",
    "\n",
    "\n",
    "# Selection sort.\n",
    "def quick_selection(x, first, last):\n",
    "    for i in range (first, last):\n",
    "        minIndex = i\n",
    "        for j in range (i+1, last+1):\n",
    "            if x[j] < x[minIndex]:\n",
    "                minIndex = j\n",
    "        if minIndex != i:\n",
    "            x[i], x[minIndex] = x[minIndex], x[i]\n",
    "            \n",
    "threshold = 20\n",
    "lst = [5, 9, 1, 2, 4, 8, 6, 3, 7]\n",
    "print(lst)\n",
    "quick_sort(lst)"
   ]
  },
  {
   "cell_type": "markdown",
   "metadata": {},
   "source": [
    "# Stackless quicksort\n",
    "Quicksort is a famous example of a recursive algorithm. Here is a sub-optimal implementation:"
   ]
  },
  {
   "cell_type": "code",
   "execution_count": 1,
   "metadata": {},
   "outputs": [],
   "source": [
    "def qsort(lst, start=0, end=None):\n",
    "    if end is None:\n",
    "        end = len(lst)\n",
    "\n",
    "    if end - start < 2:\n",
    "        return\n",
    "\n",
    "    pivot_position = partition(lst, start, end)\n",
    "\n",
    "    qsort(lst, start, pivot_position)\n",
    "    qsort(lst, pivot_position + 1, end)"
   ]
  },
  {
   "cell_type": "markdown",
   "metadata": {},
   "source": [
    "The partition function chooses a pivot value and places it at the correct position, with smaller values to its left and larger values to its right. It also returns the final position of the pivot value."
   ]
  },
  {
   "cell_type": "code",
   "execution_count": 2,
   "metadata": {},
   "outputs": [],
   "source": [
    "def partition(lst, start, end):\n",
    "    pivot = lst[start]\n",
    "    rest = lst[start + 1 : end]\n",
    "\n",
    "    left = [item for item in rest if item <= pivot]\n",
    "    right = [item for item in rest if item > pivot]\n",
    "\n",
    "    lst[start:end] = left + [pivot] + right\n",
    "\n",
    "    return start + len(left)"
   ]
  },
  {
   "cell_type": "markdown",
   "metadata": {},
   "source": [
    "For brevity, we use list slicing instead of swaps, but the discussion does not depend on how the partitioning is done.\n",
    "\n",
    "In the above implementation, observe that each recursive call stands alone, simply sorting a segment of the list. As this [article](https://bertrandmeyer.com/2014/12/07/lampsort/) points out, the recursive call stack serves merely to ensure that the list is divided into smaller segments until every item is a pivot or belongs to a segment of one item.\n",
    "\n",
    "Because the order in which different parts of the list is sorted is immaterial, we don’t need recursion or even a stack for that matter. Here is an implementation of quicksort using a set to track which segments are still to be sorted:"
   ]
  },
  {
   "cell_type": "code",
   "execution_count": 3,
   "metadata": {},
   "outputs": [],
   "source": [
    "def qsort_stackless(lst):\n",
    "    not_sorted = {(0, len(lst))}\n",
    "\n",
    "    while not_sorted:\n",
    "        start, end = not_sorted.pop()\n",
    "\n",
    "        pivot_position = partition(lst, start, end)\n",
    "\n",
    "        if pivot_position - start > 0:\n",
    "            not_sorted.add((start, pivot_position))\n",
    "\n",
    "        if end - (pivot_position + 1) > 0:\n",
    "            not_sorted.add((pivot_position + 1, end))"
   ]
  },
  {
   "cell_type": "markdown",
   "metadata": {},
   "source": [
    "The set not_sorted contains start and end indices of segments which remain to be sorted. Note that the pop method returns an arbitrary element of a set, which becomes empty when no unsorted segments remain. The list is then sorted. Let’s check a test case:"
   ]
  },
  {
   "cell_type": "code",
   "execution_count": 5,
   "metadata": {},
   "outputs": [
    {
     "data": {
      "text/plain": [
       "[1, 2, 3, 4, 5]"
      ]
     },
     "execution_count": 5,
     "metadata": {},
     "output_type": "execute_result"
    }
   ],
   "source": [
    "lst = [3, 2, 1, 4, 5]\n",
    "qsort_stackless(lst)\n",
    "lst"
   ]
  }
 ],
 "metadata": {
  "kernelspec": {
   "display_name": "Python 3",
   "language": "python",
   "name": "python3"
  },
  "language_info": {
   "codemirror_mode": {
    "name": "ipython",
    "version": 3
   },
   "file_extension": ".py",
   "mimetype": "text/x-python",
   "name": "python",
   "nbconvert_exporter": "python",
   "pygments_lexer": "ipython3",
   "version": "3.6.6"
  }
 },
 "nbformat": 4,
 "nbformat_minor": 2
}
