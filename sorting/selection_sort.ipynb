{
 "cells": [
  {
   "cell_type": "markdown",
   "metadata": {},
   "source": [
    "# Selection Sort\n",
    "\n",
    "Traverses the unsorted list/array for the min (or max) number. It then adds the number to the sorted list and swaps positions if need be. We then search again for the new min value and continue the algorithm.\n",
    "\n",
    "`[7, 8, 5, 4, 9, 2]`\n",
    "\n",
    "`2` is our min so we swap with `7`\n",
    "\n",
    "`[2, 8, 5, 4, 9, 7]`,  `2` is now considered part of the sorted list\n",
    "\n",
    "`4` is now our new min so now we swap with `8`\n",
    "\n",
    "`[2, 4, 5, 8, 9, 7]`,  `2` and `4` are now considered part of the sorted list, we continue until the sort is complete\n"
   ]
  },
  {
   "cell_type": "markdown",
   "metadata": {},
   "source": [
    "<b>References and resources:</b>\n",
    "- Python Data Structures and Algorithms by Benjamin Baka\n",
    "- [YouTube: Python: SelectionSort algorithm](https://www.youtube.com/watch?v=mI3KgJy_d7Y)<sup>[1]</sup>\n",
    "- https://www.geeksforgeeks.org/selection-sort/\n",
    "- [Wikipedia](https://en.wikipedia.org/wiki/Selection_sort)\n",
    "\n",
    "<sub>[1] [code](https://github.com/joeyajames/Python/blob/master/Sorting%20Algorithms/selection_sort.py)<sub>"
   ]
  },
  {
   "cell_type": "code",
   "execution_count": null,
   "metadata": {},
   "outputs": [],
   "source": [
    "# # Uncomment to use inline pythontutor\n",
    "\n",
    "# from IPython.display import IFrame\n",
    "\n",
    "# IFrame('http://www.pythontutor.com/visualize.html#mode=display', height=1500, width=750)"
   ]
  },
  {
   "cell_type": "markdown",
   "metadata": {},
   "source": [
    "Example 1"
   ]
  },
  {
   "cell_type": "code",
   "execution_count": 9,
   "metadata": {},
   "outputs": [
    {
     "data": {
      "text/plain": [
       "[11, 12, 22, 25, 64]"
      ]
     },
     "execution_count": 9,
     "metadata": {},
     "output_type": "execute_result"
    }
   ],
   "source": [
    "# Traverse through all array elements \n",
    "def selection_sort(array):\n",
    "    for i in range(len(array)): \n",
    "\n",
    "        # Find the minimum element in remaining  \n",
    "        # unsorted array \n",
    "        min_idx = i \n",
    "        for j in range(i+1, len(array)): \n",
    "            if array[min_idx] > array[j]: \n",
    "                min_idx = j \n",
    "\n",
    "        # Swap the found minimum element with  \n",
    "        # the first element         \n",
    "        array[i], array[min_idx] = array[min_idx], array[i] \n",
    "\n",
    "    return array\n",
    "\n",
    "lst = [64, 25, 12, 22, 11] \n",
    "\n",
    "selection_sort(lst)"
   ]
  },
  {
   "cell_type": "markdown",
   "metadata": {},
   "source": [
    "Example 2"
   ]
  },
  {
   "cell_type": "code",
   "execution_count": 10,
   "metadata": {},
   "outputs": [
    {
     "name": "stdout",
     "output_type": "stream",
     "text": [
      "[5, 9, 1, 2, 4, 8, 6, 3, 7]\n"
     ]
    },
    {
     "data": {
      "text/plain": [
       "[1, 2, 3, 4, 5, 6, 7, 8, 9]"
      ]
     },
     "execution_count": 10,
     "metadata": {},
     "output_type": "execute_result"
    }
   ],
   "source": [
    "def selection_sort(array):\n",
    "    for i in range (0, len(array) - 1):\n",
    "        minIndex = i\n",
    "        for j in range (i+1, len(array)):\n",
    "            if array[j] < array[minIndex]:\n",
    "                minIndex = j\n",
    "        if minIndex != i:\n",
    "            array[i], array[minIndex] = array[minIndex], array[i]\n",
    "    return array\n",
    "            \n",
    "lst = [5,9,1,2,4,8,6,3,7]\n",
    "print(lst)\n",
    "selection_sort(lst)"
   ]
  }
 ],
 "metadata": {
  "kernelspec": {
   "display_name": "Python 3",
   "language": "python",
   "name": "python3"
  },
  "language_info": {
   "codemirror_mode": {
    "name": "ipython",
    "version": 3
   },
   "file_extension": ".py",
   "mimetype": "text/x-python",
   "name": "python",
   "nbconvert_exporter": "python",
   "pygments_lexer": "ipython3",
   "version": "3.6.6"
  }
 },
 "nbformat": 4,
 "nbformat_minor": 2
}
