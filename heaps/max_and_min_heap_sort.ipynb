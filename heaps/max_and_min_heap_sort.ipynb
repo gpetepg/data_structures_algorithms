{
 "cells": [
  {
   "cell_type": "markdown",
   "metadata": {},
   "source": [
    "# Heaps\n",
    "\n",
    "A heap is a specialized tree-based data structure which is essentially an almost complete tree that satisfies the heap property. The heap property states that there must be a relationship between a parent and child nodes.\n",
    "\n",
    "Heaps can be represented by a list due to its need to be a complete binary tree.<sup>[1]</sup>\n",
    "\n",
    "\n",
    "- Max heap: Heap property where the parent > child.\n",
    "- Min heap: Heap property  the parent < child.\n",
    "\n",
    "\n",
    "To find the child of any node you can retrieve it using `2n` and the right child at `2n + 1`, this will always hold true.\n",
    "\n",
    "To find the parent use `n//2`.\n",
    "\n",
    "Max and min insert and pop have opposite logic.\n",
    "\n",
    "<sup>[1] A complete binary tree is a binary tree which is completely filled, with the possible exception of the bottom level, which is filled from left to right.</sup>"
   ]
  },
  {
   "cell_type": "markdown",
   "metadata": {},
   "source": [
    "<b>References and resources:</b>\n",
    " - Python Data Structures and Algorithms by Benjamin Baka\n",
    " - [Python: MaxHeap heapsort](https://www.youtube.com/watch?v=GnKHVXv_rlQ&list=PLj8W7XIvO93qsmdxbaDpIvM1KCyNO1K_c&index=10)\n",
    " - https://stackoverflow.com/questions/13979714/heap-sort-how-to-sort\n",
    " \n",
    " \n",
    " - [Heap sort in 4 minutes](https://www.youtube.com/watch?v=2DmK_H7IdTo&index=5&list=PL9xmBV_5YoZOZSbGAXAPIq1BeUf4j20pl)<sup>[2]</sup>\n",
    " - http://ind.ntou.edu.tw/~litsnow/al98/pdf/Algorithm-Ch6-Heapsort.pdf\n",
    " - https://www.studytonight.com/data-structures/heap-sort\n",
    " - [Wikipedia](https://en.wikipedia.org/wiki/Heap_(data_structure))\n",
    " \n",
    " \n",
    "<b>Tools:</b>\n",
    " - [Visualizer min heap](https://www.cs.usfca.edu/~galles/visualization/Heap.html)\n",
    " - [Visualizer max heap](http://btv.melezinek.cz/binary-heap.html)\n",
    " \n",
    " <sub>[2]https://github.com/joeyajames/Python/blob/master/MaxHeap.py"
   ]
  },
  {
   "cell_type": "code",
   "execution_count": 72,
   "metadata": {},
   "outputs": [],
   "source": [
    "# # Uncomment to use inline pythontutor\n",
    "\n",
    "# from IPython.display import IFrame\n",
    "\n",
    "# IFrame('http://www.pythontutor.com/visualize.html#mode=display', height=750, width=750)"
   ]
  },
  {
   "cell_type": "markdown",
   "metadata": {},
   "source": [
    "# Example 1"
   ]
  },
  {
   "cell_type": "markdown",
   "metadata": {},
   "source": [
    "<b>Min heap insert/sort</b>"
   ]
  },
  {
   "cell_type": "code",
   "execution_count": 19,
   "metadata": {},
   "outputs": [],
   "source": [
    "class MinHeap:\n",
    "    def __init__(self):\n",
    "        self._heap = [0]\n",
    "        self.size = 0\n",
    "        \n",
    "    \n",
    "    def show(self):\n",
    "        return self._heap[1:]\n",
    "       \n",
    "    \n",
    "    def _float_up(self, k):\n",
    "        \"\"\"\n",
    "        We will keep floating up until we reach the root node.\n",
    "        We then compare parent and child, if parent is greater than the child, we swap.\n",
    "        We then go up one node\n",
    "        \"\"\"\n",
    "        while k // 2 > 0:\n",
    "            if self._heap[k] < self._heap[k//2]: \n",
    "                self._heap[k], self._heap[k//2] = self._heap[k//2], self._heap[k]\n",
    "            k //= 2\n",
    "                \n",
    "                \n",
    "    def insert(self, item):\n",
    "        self._heap.append(item)\n",
    "        self.size += 1\n",
    "        self._float_up(self.size)\n",
    "        \n",
    "        \n",
    "    def _min_index(self, k):\n",
    "        if k * 2 + 1 > self.size:\n",
    "            return k * 2\n",
    "        elif self._heap[k*2] < self._heap[k*2+1]:\n",
    "            return k * 2\n",
    "        else:\n",
    "            return k * 2 + 1\n",
    "        \n",
    "    \n",
    "    def _sink(self, k):\n",
    "        \"\"\"\n",
    "        Serves as opposite to _float_up when we pop.\n",
    "        \n",
    "        \"\"\"\n",
    "        while k * 2 <= self.size:\n",
    "            mi = self._min_index(k)\n",
    "            if self._heap[k] > self._heap[mi]:\n",
    "                self._heap[k], self._heap[mi] = self._heap[mi], self._heap[k]\n",
    "            k = mi\n",
    "            \n",
    "            \n",
    "    def pop(self):\n",
    "        item = self._heap[1]\n",
    "        self._heap[1] = self._heap[self.size]\n",
    "        self.size -= 1\n",
    "        self._heap.pop()\n",
    "        self._sink(1)\n",
    "        return item"
   ]
  },
  {
   "cell_type": "code",
   "execution_count": 146,
   "metadata": {},
   "outputs": [
    {
     "name": "stdout",
     "output_type": "stream",
     "text": [
      "[1, 2, 5, 3, 6, 10, 7, 8, 4, 9] \n",
      "\n",
      "1 2 3 4 5 6 7 8 9 10 "
     ]
    }
   ],
   "source": [
    "min_heap = MinHeap()\n",
    "\n",
    "for i in (4, 8, 7, 2, 9, 10, 5, 1, 3, 6):\n",
    "    min_heap.insert(i)\n",
    "\n",
    "print(min_heap.show(), '\\n')\n",
    "\n",
    "for i in range(10):  # Pop off in ascending order\n",
    "    n = min_heap.pop()\n",
    "    print(n, end=' ')"
   ]
  },
  {
   "cell_type": "markdown",
   "metadata": {},
   "source": [
    "<b>Max heap insert/sort</b>"
   ]
  },
  {
   "cell_type": "code",
   "execution_count": 140,
   "metadata": {},
   "outputs": [],
   "source": [
    "class MaxHeap:\n",
    "    def __init__(self):\n",
    "        self._heap = [0]\n",
    "        self.size = 0\n",
    "        \n",
    "    \n",
    "    def show(self):\n",
    "        return self._heap[1:]\n",
    "       \n",
    "    \n",
    "    def _float_up(self, k):\n",
    "        \"\"\"\n",
    "        We will keep floating up until we reach the root node.\n",
    "        We then compare parent and child, if parent is less than the child, we swap.\n",
    "        We then go up one node\n",
    "        \"\"\"\n",
    "        while k // 2 > 0:\n",
    "            if self._heap[k] > self._heap[k//2]:\n",
    "                self._heap[k//2], self._heap[k] = self._heap[k], self._heap[k//2]\n",
    "            k //= 2\n",
    "                \n",
    "                \n",
    "    def insert(self, item):\n",
    "        self._heap.append(item)\n",
    "        self.size += 1\n",
    "        self._float_up(self.size)\n",
    "        \n",
    "        \n",
    "    def _max_index(self, k):\n",
    "        if k * 2 + 1 > self.size:\n",
    "            return k * 2\n",
    "        elif self._heap[k*2] > self._heap[k*2+1]:\n",
    "            return k * 2\n",
    "        else:\n",
    "            return k * 2 + 1\n",
    "        \n",
    "    \n",
    "    def _sink(self, k):\n",
    "        \"\"\"\n",
    "        Serves as opposite to _float_up when we pop.\n",
    "        \n",
    "        \"\"\"\n",
    "        while k * 2 <= self.size:\n",
    "            mi = self._max_index(k)\n",
    "            if self._heap[k] < self._heap[mi]:\n",
    "                self._heap[k], self._heap[mi] = self._heap[mi], self._heap[k]\n",
    "            k = mi\n",
    "            \n",
    "            \n",
    "    def pop(self):\n",
    "        item = self._heap[1]\n",
    "        self._heap[1] = self._heap[self.size]\n",
    "        self.size -= 1\n",
    "        self._heap.pop()\n",
    "        self._sink(1)\n",
    "        return item"
   ]
  },
  {
   "cell_type": "code",
   "execution_count": 143,
   "metadata": {
    "scrolled": true
   },
   "outputs": [
    {
     "name": "stdout",
     "output_type": "stream",
     "text": [
      "[10, 8, 9, 3, 6, 7, 5, 1, 2, 4] \n",
      "\n",
      "10 9 8 7 6 5 4 3 2 1 "
     ]
    }
   ],
   "source": [
    "max_heap = MaxHeap()\n",
    "\n",
    "for i in (4, 8, 7, 2, 9, 10, 5, 1, 3, 6):\n",
    "    max_heap.insert(i)\n",
    "\n",
    "print(max_heap.show(),'\\n')\n",
    "\n",
    "for i in range(10):  # Pop off in descending order\n",
    "    n = max_heap.pop()\n",
    "    print(n, end=' ')"
   ]
  },
  {
   "cell_type": "markdown",
   "metadata": {},
   "source": [
    "# Example 2"
   ]
  },
  {
   "cell_type": "code",
   "execution_count": 7,
   "metadata": {},
   "outputs": [
    {
     "name": "stdout",
     "output_type": "stream",
     "text": [
      "[0, 95, 10, 21, 3]\n",
      "95\n"
     ]
    }
   ],
   "source": [
    "class MaxHeap:\n",
    "    def __init__(self, items=[]):\n",
    "        self.heap = [0]\n",
    "        for i in items:\n",
    "            self.heap.append(i)\n",
    "            self._float_up(len(self.heap) - 1)\n",
    "\n",
    "    def push(self, data):\n",
    "        self.heap.append(data)\n",
    "        self._float_up(len(self.heap) - 1)\n",
    "\n",
    "    def peek(self):\n",
    "        if self.heap[1]:\n",
    "            return self.heap[1]\n",
    "        else:\n",
    "            return False\n",
    "            \n",
    "    def pop(self):\n",
    "        if len(self.heap) > 2:\n",
    "            self._swap(1, len(self.heap) - 1)\n",
    "            max = self.heap.pop()\n",
    "            self._bubble_down(1)\n",
    "        elif len(self.heap) == 2:\n",
    "            max = self.heap.pop()\n",
    "        else: \n",
    "            max = False\n",
    "        return max\n",
    "\n",
    "    def _swap(self, i, j):\n",
    "        self.heap[i], self.heap[j] = self.heap[j], self.heap[i]\n",
    "\n",
    "    def _float_up(self, index):\n",
    "        parent = index//2\n",
    "        if index <= 1:\n",
    "            return\n",
    "        elif self.heap[index] > self.heap[parent]:\n",
    "            self._swap(index, parent)\n",
    "            self._float_up(parent)\n",
    "\n",
    "    def _bubble_down(self, index):\n",
    "        left = index * 2\n",
    "        right = index * 2 + 1\n",
    "        largest = index\n",
    "        if len(self.heap) > left and self.heap[largest] < self.heap[left]:\n",
    "            largest = left\n",
    "        if len(self.heap) > right and self.heap[largest] < self.heap[right]:\n",
    "            largest = right\n",
    "        if largest != index:\n",
    "            self._swap(index, largest)\n",
    "            self._bubble_down(largest)\n",
    "\n",
    "m = MaxHeap([95, 3, 21])\n",
    "m.push(10)\n",
    "print(str(m.heap[0:len(m.heap)]))\n",
    "print(str(m.pop()))"
   ]
  }
 ],
 "metadata": {
  "kernelspec": {
   "display_name": "Python 3",
   "language": "python",
   "name": "python3"
  },
  "language_info": {
   "codemirror_mode": {
    "name": "ipython",
    "version": 3
   },
   "file_extension": ".py",
   "mimetype": "text/x-python",
   "name": "python",
   "nbconvert_exporter": "python",
   "pygments_lexer": "ipython3",
   "version": "3.6.6"
  }
 },
 "nbformat": 4,
 "nbformat_minor": 2
}
