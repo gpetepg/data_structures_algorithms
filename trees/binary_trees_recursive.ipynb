{
 "cells": [
  {
   "cell_type": "markdown",
   "metadata": {},
   "source": [
    "https://www.youtube.com/watch?v=YlgPi75hIBc"
   ]
  },
  {
   "cell_type": "code",
   "execution_count": null,
   "metadata": {},
   "outputs": [],
   "source": [
    "class Node:\n",
    "    def __init__(self, value):\n",
    "        self.value = value\n",
    "        self.left_child = None\n",
    "        self.right_child = None\n",
    "        \n",
    "        \n",
    "    def insert(self, value):\n",
    "        if self.value = value:\n",
    "            return False\n",
    "        elif self.value > data:\n",
    "            if self.left_child:\n",
    "                return self.left_child.insert(value)\n",
    "            else:\n",
    "                self.left_child = Node(value)\n",
    "                return True\n",
    "        else:\n",
    "            if self.right_child:\n",
    "                return self.right_child.insert(value)\n",
    "            else:\n",
    "                self.right_child = Node(value)\n",
    "                return True\n",
    "            \n",
    "    def find(self, value):\n",
    "        if(s)\n",
    "        \n",
    "        \n",
    "class Tree:\n",
    "    def __init__(self):\n",
    "        self.root = None\n",
    "        \n",
    "    \n",
    "    def insert(self, value):\n",
    "        if self.root:\n",
    "            return self.root.insert(value)\n",
    "        \n",
    "    \n",
    "    def find(self, value):\n",
    "        if self.root:\n",
    "            return self.root.find(value)\n",
    "        else:\n",
    "            return False"
   ]
  }
 ],
 "metadata": {
  "kernelspec": {
   "display_name": "Python 3",
   "language": "python",
   "name": "python3"
  },
  "language_info": {
   "codemirror_mode": {
    "name": "ipython",
    "version": 3
   },
   "file_extension": ".py",
   "mimetype": "text/x-python",
   "name": "python",
   "nbconvert_exporter": "python",
   "pygments_lexer": "ipython3",
   "version": "3.6.6"
  }
 },
 "nbformat": 4,
 "nbformat_minor": 2
}
