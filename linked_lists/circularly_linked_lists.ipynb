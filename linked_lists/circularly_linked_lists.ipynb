{
 "cells": [
  {
   "cell_type": "markdown",
   "metadata": {},
   "source": [
    "# Circularly Linked List\n",
    "\n",
    "In short a linked list (singly or doubly) where the tail node points at the head.\n",
    "\n",
    "In the last node of a list, the link field often contains a null reference, a special value is used to indicate the lack of further nodes. A less common convention is to make it point to the first node of the list; in that case, the list is said to be 'circular' or 'circularly linked'; otherwise, it is said to be 'open' or 'linear'. It is a list where the last pointer points to the first node."
   ]
  },
  {
   "cell_type": "markdown",
   "metadata": {},
   "source": [
    "<b>References</b>\n",
    "- Python Data Structures and Algorithms by Benjamin Baka\n",
    "- [Circular linked list](https://www.youtube.com/watch?v=3bmCGdh0jS8&index=6&list=PLj8W7XIvO93rx6hFr6H3Un4Ezpg1iUpOG)\n",
    "- [Wikipedia](https://en.wikipedia.org/wiki/Linked_list#Circular_linked_list)"
   ]
  },
  {
   "cell_type": "code",
   "execution_count": null,
   "metadata": {},
   "outputs": [],
   "source": [
    "# # Uncomment to use inline pythontutor\n",
    "\n",
    "# from IPython.display import IFrame\n",
    "\n",
    "# IFrame('http://www.pythontutor.com/visualize.html#mode=display', height=1500, width=750)"
   ]
  },
  {
   "cell_type": "code",
   "execution_count": 1,
   "metadata": {},
   "outputs": [],
   "source": [
    "class Node:\n",
    "    \"\"\"\n",
    "    Simple node with pointer.\n",
    "    \"\"\"\n",
    "    def __init__(self, value):\n",
    "        self.value = value\n",
    "        self.next = None\n",
    "\n",
    "        \n",
    "class CircularlySinglyLinkedList:  # Should run in O(1)\n",
    "    def __init__(self):\n",
    "        self.tail = None\n",
    "        self.head = None\n",
    "        self.size = 0  # We initialize a counter at 0.\n",
    "        \n",
    "        \n",
    "    def append(self, value):\n",
    "        \"\"\"\n",
    "        The point at which we append new nodes is through self.head.\n",
    "        self.tail will refer to the first node.\n",
    "        \"\"\"\n",
    "        node = Node(value)\n",
    "        if self.tail:\n",
    "            self.tail.next = node\n",
    "            self.tail = node\n",
    "        else:  # Sets the first entry as head node, and now updates tail pointing to each new append, ending at none.\n",
    "            self.tail = node\n",
    "            self.head = node \n",
    "        self.size += 1\n",
    "        self.tail.next = self.head # We set the tail's next pointing to the head.\n",
    "            "
   ]
  },
  {
   "cell_type": "code",
   "execution_count": 2,
   "metadata": {},
   "outputs": [],
   "source": [
    "words = CircularlySinglyLinkedList()"
   ]
  },
  {
   "cell_type": "code",
   "execution_count": 3,
   "metadata": {},
   "outputs": [],
   "source": [
    "words.append('eggs')"
   ]
  },
  {
   "cell_type": "code",
   "execution_count": 10,
   "metadata": {},
   "outputs": [
    {
     "data": {
      "text/plain": [
       "'eggs'"
      ]
     },
     "execution_count": 10,
     "metadata": {},
     "output_type": "execute_result"
    }
   ],
   "source": [
    "words.tail.next.value"
   ]
  },
  {
   "cell_type": "code",
   "execution_count": 31,
   "metadata": {},
   "outputs": [],
   "source": [
    "class Node:\n",
    "    def __init__(self, value):\n",
    "        self.value = value\n",
    "        self.next = None\n",
    "\n",
    "        \n",
    "class CircularlySinglyLinkedList:  # Should run in O(1)\n",
    "    def __init__(self):\n",
    "        self.tail = None\n",
    "        self.head = None\n",
    "        self.size = 0  # We initialize a counter at 0.\n",
    "        \n",
    "        \n",
    "    def append(self, value):\n",
    "        \"\"\"\n",
    "        The point at which we append new nodes is through self.head.\n",
    "        self.tail will refer to the first node.\n",
    "        \"\"\"\n",
    "        node = Node(value)\n",
    "        if self.tail:\n",
    "            self.tail.next = node\n",
    "            self.tail = node\n",
    "        else:  # Sets the first entry as head node, and now updates tail pointing to each new append, ending at none.\n",
    "            self.tail = node\n",
    "            self.head = node \n",
    "        self.size += 1\n",
    "        self.tail.next = self.head # We set the tail's next pointing to the head.\n",
    "\n",
    "        \n",
    "    def delete(self, value):\n",
    "            \"\"\"\n",
    "            To delete a node between other nodes we must make the previous node point directly to the\n",
    "            successor of its next node.\n",
    "\n",
    "            It should take O(n) to delete the node.\n",
    "            \"\"\"\n",
    "            current = self.head\n",
    "            previous = self.head\n",
    "            while previous == current or previous != self.tail:\n",
    "                if current.value == value:\n",
    "                    if current == self.head:\n",
    "                        self.head = current.next\n",
    "                    else:\n",
    "                        previous.next = current.next\n",
    "                    self.size -= 1\n",
    "                    return\n",
    "                previous = current\n",
    "                current = current.next\n",
    "            \n",
    "            \n",
    "    def iterate(self):\n",
    "        current = self.head\n",
    "        while current:\n",
    "            yield current.value\n",
    "            current = current.next"
   ]
  },
  {
   "cell_type": "code",
   "execution_count": 32,
   "metadata": {},
   "outputs": [],
   "source": [
    "words = CircularlySinglyLinkedList()\n",
    "words.append('egg')\n",
    "words.append('ham')\n",
    "words.append('spam')\n"
   ]
  },
  {
   "cell_type": "code",
   "execution_count": 33,
   "metadata": {},
   "outputs": [
    {
     "data": {
      "text/plain": [
       "3"
      ]
     },
     "execution_count": 33,
     "metadata": {},
     "output_type": "execute_result"
    }
   ],
   "source": [
    "words.size"
   ]
  },
  {
   "cell_type": "code",
   "execution_count": 34,
   "metadata": {},
   "outputs": [],
   "source": [
    "words.delete('ham')"
   ]
  },
  {
   "cell_type": "code",
   "execution_count": 43,
   "metadata": {},
   "outputs": [
    {
     "data": {
      "text/plain": [
       "'egg'"
      ]
     },
     "execution_count": 43,
     "metadata": {},
     "output_type": "execute_result"
    }
   ],
   "source": [
    "words.head.value"
   ]
  },
  {
   "cell_type": "code",
   "execution_count": 44,
   "metadata": {},
   "outputs": [
    {
     "data": {
      "text/plain": [
       "'spam'"
      ]
     },
     "execution_count": 44,
     "metadata": {},
     "output_type": "execute_result"
    }
   ],
   "source": [
    "words.tail.value"
   ]
  },
  {
   "cell_type": "code",
   "execution_count": 46,
   "metadata": {},
   "outputs": [
    {
     "data": {
      "text/plain": [
       "'egg'"
      ]
     },
     "execution_count": 46,
     "metadata": {},
     "output_type": "execute_result"
    }
   ],
   "source": [
    "words.tail.next.value"
   ]
  },
  {
   "cell_type": "code",
   "execution_count": 41,
   "metadata": {},
   "outputs": [
    {
     "name": "stdout",
     "output_type": "stream",
     "text": [
      "egg\n",
      "spam\n",
      "egg\n",
      "spam\n",
      "egg\n",
      "spam\n"
     ]
    }
   ],
   "source": [
    "counter = 0\n",
    "for word in words.iterate():\n",
    "    print(word)\n",
    "    counter += 1\n",
    "    if counter > 5:\n",
    "        break"
   ]
  }
 ],
 "metadata": {
  "kernelspec": {
   "display_name": "Python 3",
   "language": "python",
   "name": "python3"
  },
  "language_info": {
   "codemirror_mode": {
    "name": "ipython",
    "version": 3
   },
   "file_extension": ".py",
   "mimetype": "text/x-python",
   "name": "python",
   "nbconvert_exporter": "python",
   "pygments_lexer": "ipython3",
   "version": "3.6.6"
  }
 },
 "nbformat": 4,
 "nbformat_minor": 2
}
