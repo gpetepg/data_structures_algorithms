{
 "cells": [
  {
   "cell_type": "markdown",
   "metadata": {},
   "source": [
    "# Doubly Linked Lists\n",
    "\n",
    "Tail always points to None.\n",
    "\n",
    "What differs from singly is that nodes have a previous node value."
   ]
  },
  {
   "cell_type": "markdown",
   "metadata": {},
   "source": [
    "<b>Node</b>"
   ]
  },
  {
   "cell_type": "code",
   "execution_count": 1,
   "metadata": {},
   "outputs": [],
   "source": [
    "# Doubly linked list node\n",
    "\n",
    "class Node:\n",
    "    def __init__(self, value):\n",
    "        self.value = value\n",
    "        self.next = None\n",
    "        self.previous = None"
   ]
  },
  {
   "cell_type": "markdown",
   "metadata": {},
   "source": [
    "<b>List class to handle the node</b>"
   ]
  },
  {
   "cell_type": "code",
   "execution_count": 2,
   "metadata": {},
   "outputs": [],
   "source": [
    "class DoublyLinkedList:\n",
    "    def __init__(self):\n",
    "        self.head = None\n",
    "        self.tail = None\n",
    "        self.size = 0\n",
    "        \n",
    "    def append(self, value):\n",
    "        \"\"\"\n",
    "        When the list is populated > 0 previous is now the tail\n",
    "        \n",
    "        Adding to an empty list set both head and tail to current or node you just inserted\n",
    "\n",
    "        \"\"\"\n",
    "        node = Node(value) \n",
    "        if self.head:  # If there is a head\n",
    "            node.previous = self.tail  # Previous is now the tail\n",
    "            self.tail.next = node  # Set the previous node's next to this node\n",
    "            self.tail = node  # This becomes the tail\n",
    "        else:  # Evaluates when the list is empty, sets head to the first node, the new tail at the moment is the head\n",
    "            self.head = node\n",
    "            self.tail = self.head  \n",
    "        self.size += 1  # Add one to the counter\n",
    "            \n",
    "    def iterate(self):  # Same iteration algorithm as singly linked lists\n",
    "        current = self.head\n",
    "        while current:\n",
    "            yield current.value\n",
    "            current = current.next "
   ]
  },
  {
   "cell_type": "code",
   "execution_count": 3,
   "metadata": {},
   "outputs": [],
   "source": [
    "words = DoublyLinkedList()\n",
    "\n",
    "words.append('eggs')\n",
    "words.append('ham')"
   ]
  },
  {
   "cell_type": "markdown",
   "metadata": {},
   "source": [
    "<b>Adding deletion method</b>"
   ]
  },
  {
   "cell_type": "code",
   "execution_count": 11,
   "metadata": {},
   "outputs": [],
   "source": [
    "class DoublyLinkedList:\n",
    "    def __init__(self):\n",
    "        self.head = None\n",
    "        self.tail = None\n",
    "        self.size = 0\n",
    "        \n",
    "    def append(self, value):\n",
    "        node = Node(value) \n",
    "        if self.head:  \n",
    "            node.previous = self.tail \n",
    "            self.tail.next = node \n",
    "            self.tail = node   \n",
    "        else:  \n",
    "            self.head = node\n",
    "            self.tail = self.head      \n",
    "        self.size += 1\n",
    "            \n",
    "    def iterate(self):  # Same algorithm as singly linked list\n",
    "        current = self.head\n",
    "        while current:\n",
    "            yield current.value\n",
    "            current = current.next\n",
    "    \n",
    "    def delete(self, value):\n",
    "        \"\"\"\n",
    "        Deletion check for four conditions, the value to delete is the head,tail,is None or within the list.\n",
    "        We will set the currents previous next to currents next and currents next previous to currents previous\n",
    "        \"\"\"\n",
    "        current = self.head\n",
    "        node_deleted = False\n",
    "        if current is None:  # Checks if value is none; meaning not found at all\n",
    "            node_deleted = False\n",
    "        elif current.value == value:   # checking at the head\n",
    "            self.head = current.next   # We switch head to currents next\n",
    "            self.head.previous = None  # Delete it\n",
    "            node_deleted = True\n",
    "        elif self.tail.value == value:     # checking at the tail\n",
    "            self.tail = self.tail.previous # Set tail to current's previous\n",
    "            self.tail.next = None          # Delete it\n",
    "            node_deleted = True\n",
    "        else:\n",
    "            while current:  # We now parse through\n",
    "                if current.value == value:  # When we find the value we want to delete\n",
    "                    current.prev.next = current.next  # Set the previous next to current next\n",
    "                    currrent.next.previous = current.previous  # Set the next's previous to current's previous\n",
    "                    node_deleted = True\n",
    "                    current = current.next\n",
    "        if node_deleted:\n",
    "            self.size -= 1 "
   ]
  },
  {
   "cell_type": "code",
   "execution_count": 12,
   "metadata": {},
   "outputs": [
    {
     "data": {
      "text/plain": [
       "3"
      ]
     },
     "execution_count": 12,
     "metadata": {},
     "output_type": "execute_result"
    }
   ],
   "source": [
    "words = DoublyLinkedList()\n",
    "\n",
    "words.append('eggs')\n",
    "words.append('ham')\n",
    "words.append('spam')\n",
    "\n",
    "words.size"
   ]
  },
  {
   "cell_type": "code",
   "execution_count": 13,
   "metadata": {},
   "outputs": [
    {
     "name": "stdout",
     "output_type": "stream",
     "text": [
      "eggs\n",
      "ham\n",
      "spam\n"
     ]
    }
   ],
   "source": [
    "for word in words.iterate():\n",
    "    print(word)"
   ]
  },
  {
   "cell_type": "code",
   "execution_count": 14,
   "metadata": {},
   "outputs": [],
   "source": [
    "words.delete('eggs')"
   ]
  },
  {
   "cell_type": "code",
   "execution_count": 15,
   "metadata": {},
   "outputs": [
    {
     "name": "stdout",
     "output_type": "stream",
     "text": [
      "ham\n",
      "spam\n"
     ]
    },
    {
     "data": {
      "text/plain": [
       "2"
      ]
     },
     "execution_count": 15,
     "metadata": {},
     "output_type": "execute_result"
    }
   ],
   "source": [
    "for word in words.iterate():\n",
    "    print(word)\n",
    "    \n",
    "words.size"
   ]
  },
  {
   "cell_type": "code",
   "execution_count": 39,
   "metadata": {},
   "outputs": [],
   "source": [
    "words.tail.next  # Check to see if deleted"
   ]
  },
  {
   "cell_type": "code",
   "execution_count": 40,
   "metadata": {},
   "outputs": [],
   "source": [
    "words.head.previous  # Check to see if deleted"
   ]
  },
  {
   "cell_type": "markdown",
   "metadata": {},
   "source": [
    "<b>Searching and clearing</b>"
   ]
  },
  {
   "cell_type": "code",
   "execution_count": 41,
   "metadata": {},
   "outputs": [],
   "source": [
    "class DoublyLinkedList:\n",
    "    def __init__(self):\n",
    "        self.head = None\n",
    "        self.tail = None\n",
    "        self.size = 0\n",
    "        \n",
    "    def append(self, value):\n",
    "        node = Node(value) \n",
    "        if self.head:\n",
    "            node.previous = self.tail\n",
    "            self.tail.next = node\n",
    "            self.tail = node  \n",
    "        else:\n",
    "            self.head = node\n",
    "            self.tail = self.head      \n",
    "        self.size += 1\n",
    "            \n",
    "    def iterate(self):  \n",
    "        current = self.head\n",
    "        while current:\n",
    "            yield current.value\n",
    "            current = current.next\n",
    "    \n",
    "    def delete(self, value):\n",
    "        current = self.head\n",
    "        node_deleted = False\n",
    "        if current is None:\n",
    "            node_deleted = False\n",
    "        elif current.value == value:   \n",
    "            self.head = current.next   \n",
    "            self.head.previous = None  \n",
    "            node_deleted = True\n",
    "        elif self.tail.value == value:     \n",
    "            self.tail = self.tail.previous \n",
    "            self.tail.next = None          \n",
    "            node_deleted = True\n",
    "        else:\n",
    "            while current:  \n",
    "                if current.value == value: \n",
    "                    current.prev.next = current.next  \n",
    "                    currrent.next.previous = current.previous  \n",
    "                    node_deleted = True\n",
    "                    current = current.next\n",
    "        if node_deleted:\n",
    "            self.size -= 1\n",
    "            \n",
    "    def search(self, value):  # Same algorithm as singly linked lists\n",
    "        \"\"\"\n",
    "        Search within all the nodes if the value you\n",
    "        supply is equal to the 'node'/node value.\n",
    "        \"\"\"\n",
    "        for node in self.iterate():\n",
    "            if value == node:\n",
    "                return True\n",
    "        return False"
   ]
  },
  {
   "cell_type": "markdown",
   "metadata": {},
   "source": [
    "# All Together"
   ]
  },
  {
   "cell_type": "code",
   "execution_count": 42,
   "metadata": {},
   "outputs": [],
   "source": [
    "class DoublyLinkedList:\n",
    "    def __init__(self):\n",
    "        self.head = None\n",
    "        self.tail = None\n",
    "        self.size = 0\n",
    "        \n",
    "    def append(self, value):\n",
    "        \"\"\"\n",
    "        Unlike singly linked lists self.head points to the beginner node opposed to self.tail\n",
    "        \"\"\"\n",
    "        node = Node(value) \n",
    "        if self.head:  # If there is a head\n",
    "            node.previous = self.tail  # Previous is now the tail\n",
    "            self.tail.next = node  # Set the previous node's next to this node\n",
    "            self.tail = node  # This becomes the tail\n",
    "        else:  # Evaluates when the list is empty, sets head to the first node, the new tail at the moment is the head\n",
    "            self.head = node\n",
    "            self.tail = self.head      \n",
    "        self.size += 1\n",
    "    \n",
    "    def delete(self, value):\n",
    "        \"\"\"\n",
    "        Deletion check for four conditions, the value to delete is the head,tail,is None or within the list.\n",
    "        We will set the currents previous next to currents next and currents next previous to currents previous\n",
    "        \"\"\"\n",
    "        current = self.head\n",
    "        node_deleted = False\n",
    "        if current is None:  # Checks if value is none; meaning not found at all\n",
    "            node_deleted = False\n",
    "        elif current.value == value:   # checking at the head\n",
    "            self.head = current.next   # We switch head to currents next\n",
    "            self.head.previous = None  # Delete it\n",
    "            node_deleted = True\n",
    "        elif self.tail.value == value:     # checking at the tail\n",
    "            self.tail = self.tail.previous # Set tail to current's previous\n",
    "            self.tail.next = None          # Delete it\n",
    "            node_deleted = True\n",
    "        else:\n",
    "            while current:  # We now parse through\n",
    "                if current.value == value:  # When we find the value we want to delete\n",
    "                    current.prev.next = current.next  # Set the previous next to current next\n",
    "                    currrent.next.previous = current.previous  # Set the next's previous to current's previous\n",
    "                    node_deleted = True\n",
    "                    current = current.next\n",
    "        if node_deleted:\n",
    "            self.size -= 1\n",
    "                    \n",
    "    def iterate(self):  # Same logic as singly linked lists\n",
    "        \"\"\"\n",
    "        We can now completely ignore anything called a node outside of this list class.\n",
    "        We Start at the tail node print its value then set the current node to the next node it points to\n",
    "        \n",
    "        Using a generator to save more memory.\n",
    "        \"\"\"\n",
    "        current = self.head\n",
    "        while current:\n",
    "            yield current.value\n",
    "            current = current.next\n",
    "            \n",
    "    def search(self, value, position=-1):  # Same logic as signly linked lists\n",
    "        \"\"\"\n",
    "        Search within all the nodes if the value you\n",
    "        supply is equal to the 'node'/node value.\n",
    "        \"\"\"\n",
    "        for node in self.iterate():\n",
    "            position += 1\n",
    "            if value == node:\n",
    "                return position\n",
    "        return False\n",
    "    \n",
    "    def clear(self):  # Same logic as singly linked lists\n",
    "        \"\"\"\n",
    "        Easily clear the linked list by setting both the head and tail to None.\n",
    "        \"\"\"\n",
    "        self.tail = None\n",
    "        self.head = None\n",
    "        self.size = 0\n",
    "        print('cleared')"
   ]
  },
  {
   "cell_type": "code",
   "execution_count": 43,
   "metadata": {
    "scrolled": true
   },
   "outputs": [
    {
     "data": {
      "text/plain": [
       "3"
      ]
     },
     "execution_count": 43,
     "metadata": {},
     "output_type": "execute_result"
    }
   ],
   "source": [
    "words = DoublyLinkedList()\n",
    "\n",
    "words.append('eggs')\n",
    "words.append('ham')\n",
    "words.append('spam')\n",
    "\n",
    "words.size"
   ]
  }
 ],
 "metadata": {
  "kernelspec": {
   "display_name": "Python 3",
   "language": "python",
   "name": "python3"
  },
  "language_info": {
   "codemirror_mode": {
    "name": "ipython",
    "version": 3
   },
   "file_extension": ".py",
   "mimetype": "text/x-python",
   "name": "python",
   "nbconvert_exporter": "python",
   "pygments_lexer": "ipython3",
   "version": "3.6.6"
  }
 },
 "nbformat": 4,
 "nbformat_minor": 2
}
