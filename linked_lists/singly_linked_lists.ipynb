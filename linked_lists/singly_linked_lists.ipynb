{
 "cells": [
  {
   "cell_type": "markdown",
   "metadata": {},
   "source": [
    "# Resources\n",
    "\n",
    "- Python Data Structures and Algorithms by Benjamin Baka\n",
    "- [Linked lists](https://www.youtube.com/watch?v=Bd1L64clh34&list=PLj8W7XIvO93rx6hFr6H3Un4Ezpg1iUpOG)\n",
    "- [Sorting a linked list](https://www.youtube.com/watch?v=Xk0Tgh1AbfE&list=PLj8W7XIvO93rx6hFr6H3Un4Ezpg1iUpOG&index=5)"
   ]
  },
  {
   "cell_type": "markdown",
   "metadata": {},
   "source": [
    "# Singly linked lists\n",
    "\n",
    "Tail always points to None."
   ]
  },
  {
   "cell_type": "code",
   "execution_count": null,
   "metadata": {},
   "outputs": [],
   "source": [
    "# # Uncomment if you want to use inline pythontutor\n",
    "\n",
    "# from IPython.display import IFrame\n",
    "\n",
    "# IFrame('http://www.pythontutor.com/visualize.html#mode=display', height=1500, width=750)"
   ]
  },
  {
   "cell_type": "code",
   "execution_count": 42,
   "metadata": {},
   "outputs": [],
   "source": [
    "class Node:\n",
    "    \"\"\"\n",
    "    Simple node with pointer.\n",
    "    \"\"\"\n",
    "    def __init__(self, value):\n",
    "        self.value = value\n",
    "        self.next = None"
   ]
  },
  {
   "cell_type": "code",
   "execution_count": 43,
   "metadata": {},
   "outputs": [],
   "source": [
    "node1 = Node(10)\n",
    "node2 = Node(19)\n",
    "node3 = Node(20)\n",
    "node4 = Node(90)"
   ]
  },
  {
   "cell_type": "code",
   "execution_count": 44,
   "metadata": {},
   "outputs": [],
   "source": [
    "node1.next = node2\n",
    "node2.next = node3\n",
    "node3.next = node4"
   ]
  },
  {
   "cell_type": "code",
   "execution_count": 45,
   "metadata": {},
   "outputs": [
    {
     "name": "stdout",
     "output_type": "stream",
     "text": [
      "10\n",
      "19\n",
      "20\n",
      "90\n"
     ]
    }
   ],
   "source": [
    "# Print out your list of nodes.\n",
    "current = node1\n",
    "while current:\n",
    "    print(current.value)\n",
    "    current = current.next"
   ]
  },
  {
   "cell_type": "markdown",
   "metadata": {},
   "source": [
    "<b>Now make a class to handle the nodes/node class.</b><br>\n",
    "https://goo.gl/gNJPu3"
   ]
  },
  {
   "cell_type": "code",
   "execution_count": 46,
   "metadata": {},
   "outputs": [],
   "source": [
    "class SinglyLinkedList: # Nodes and lists are separate so we want to create a list class to hold the nodes.\n",
    "    def __init__(self):\n",
    "        self.tail = None\n",
    "        self.head = None\n",
    "        \n",
    "        \n",
    "    def append(self, value):\n",
    "        \"\"\"\n",
    "        The point at which we append new nodes is through self.head.\n",
    "        self.tail will refer to the first node.\n",
    "        \"\"\"\n",
    "        node = Node(value)\n",
    "        if self.tail:\n",
    "            self.tail.next = node\n",
    "            self.tail = node\n",
    "        else:  # Sets the first entry as head node, and now updates tail pointing to each new append, ending at none.\n",
    "            self.tail = node\n",
    "            self.head = node"
   ]
  },
  {
   "cell_type": "code",
   "execution_count": 47,
   "metadata": {},
   "outputs": [],
   "source": [
    "words = SinglyLinkedList()\n",
    "\n",
    "words.append('egg')\n",
    "words.append('ham')\n",
    "words.append('spam')"
   ]
  },
  {
   "cell_type": "code",
   "execution_count": 48,
   "metadata": {
    "scrolled": true
   },
   "outputs": [
    {
     "name": "stdout",
     "output_type": "stream",
     "text": [
      "egg\n",
      "ham\n",
      "spam\n"
     ]
    }
   ],
   "source": [
    "# Print\n",
    "current = words.head\n",
    "while current:\n",
    "    print(current.value)\n",
    "    current = current.next  "
   ]
  },
  {
   "cell_type": "code",
   "execution_count": 49,
   "metadata": {},
   "outputs": [],
   "source": [
    "words.tail.next"
   ]
  },
  {
   "cell_type": "markdown",
   "metadata": {},
   "source": [
    "<b>Getting the size of the list.</b>"
   ]
  },
  {
   "cell_type": "code",
   "execution_count": 159,
   "metadata": {},
   "outputs": [],
   "source": [
    "class SinglyLinkedList:  # Should run in O(1)\n",
    "    def __init__(self):\n",
    "        self.tail = None\n",
    "        self.head = None\n",
    "        self.size = 0  # We initialize a counter at 0.\n",
    "        \n",
    "        \n",
    "    def append(self, value):\n",
    "        \"\"\"\n",
    "        The point at which we append new nodes is through self.head.\n",
    "        self.tail will refer to the first node.\n",
    "        \"\"\"\n",
    "        node = Node(value)\n",
    "        if self.tail:\n",
    "            self.tail.next = node\n",
    "            self.tail = node\n",
    "        else:  # Sets the first entry as head node, and now updates tail pointing to each new append, ending at none.\n",
    "            self.tail = node\n",
    "            self.head = node \n",
    "        self.size += 1"
   ]
  },
  {
   "cell_type": "code",
   "execution_count": 160,
   "metadata": {},
   "outputs": [],
   "source": [
    "words = SinglyLinkedList()\n",
    "\n",
    "words.append('egg')\n",
    "words.append('ham')\n",
    "words.append('spam')"
   ]
  },
  {
   "cell_type": "code",
   "execution_count": 161,
   "metadata": {},
   "outputs": [
    {
     "data": {
      "text/plain": [
       "3"
      ]
     },
     "execution_count": 161,
     "metadata": {},
     "output_type": "execute_result"
    }
   ],
   "source": [
    "words.size"
   ]
  },
  {
   "cell_type": "markdown",
   "metadata": {},
   "source": [
    "<b>Improving list traversal</b><br>\n",
    "https://goo.gl/fnUJ4t"
   ]
  },
  {
   "cell_type": "code",
   "execution_count": 62,
   "metadata": {},
   "outputs": [],
   "source": [
    "class SinglyLinkedList:\n",
    "    def __init__(self):\n",
    "        self.tail = None\n",
    "        self.head = None\n",
    "        self.size = 0\n",
    "        \n",
    "        \n",
    "    def append(self, value):\n",
    "        node = Node(value)\n",
    "        if self.tail:\n",
    "            self.tail.next = node\n",
    "            self.tail = node\n",
    "        else:\n",
    "            self.tail = node\n",
    "            self.head = node \n",
    "        self.size += 1 \n",
    "            \n",
    "            \n",
    "    def iterate(self):\n",
    "        \"\"\"\n",
    "        We can now completely ignore anything called a node outside of this list class.\n",
    "        We Start at the tail node print its value then set the current node to the next node it points to\n",
    "        \n",
    "        Using a generator to save more memory.\n",
    "        \"\"\"\n",
    "        current = self.head\n",
    "        while current:\n",
    "            yield current.value\n",
    "            current = current.next   "
   ]
  },
  {
   "cell_type": "code",
   "execution_count": 63,
   "metadata": {},
   "outputs": [],
   "source": [
    "words = SinglyLinkedList()\n",
    "\n",
    "words.append('egg')\n",
    "words.append('ham')\n",
    "words.append('spam')"
   ]
  },
  {
   "cell_type": "code",
   "execution_count": 64,
   "metadata": {},
   "outputs": [
    {
     "name": "stdout",
     "output_type": "stream",
     "text": [
      "egg\n",
      "ham\n",
      "spam\n"
     ]
    }
   ],
   "source": [
    "for word in words.iterate():\n",
    "    print(word)"
   ]
  },
  {
   "cell_type": "markdown",
   "metadata": {},
   "source": [
    "<b>Deleting Nodes</b><br>\n",
    "https://goo.gl/xQNYm4"
   ]
  },
  {
   "cell_type": "code",
   "execution_count": 70,
   "metadata": {},
   "outputs": [],
   "source": [
    "class SinglyLinkedList:\n",
    "    def __init__(self):\n",
    "        self.tail = None\n",
    "        self.head = None\n",
    "        self.size = 0\n",
    "       \n",
    "    \n",
    "    def append(self, value):\n",
    "        node = Node(value)\n",
    "        if self.tail:\n",
    "            self.tail.next = node\n",
    "            self.tail = node\n",
    "        else:\n",
    "            self.tail = node\n",
    "            self.head = node \n",
    "        self.size += 1 \n",
    "         \n",
    "            \n",
    "    def iterate(self):\n",
    "        current = self.head\n",
    "        while current:\n",
    "            yield current.value\n",
    "            current = current.next       \n",
    "\n",
    "            \n",
    "    def delete(self, value):\n",
    "        \"\"\"\n",
    "        To delete a node between other nodes we must make the previous node point directly to the\n",
    "        successor of its next node.\n",
    "        \n",
    "        It should take O(n) to delete the node.\n",
    "        \"\"\"\n",
    "        current = self.head\n",
    "        previous = self.head\n",
    "        while current:\n",
    "            if current.value == value:\n",
    "                if current == self.head:\n",
    "                    self.head = current.next\n",
    "                else:\n",
    "                    previous.next = current.next\n",
    "                self.size -= 1\n",
    "                return\n",
    "            previous = current\n",
    "            current = current.next"
   ]
  },
  {
   "cell_type": "code",
   "execution_count": 71,
   "metadata": {},
   "outputs": [],
   "source": [
    "words = SinglyLinkedList()\n",
    "\n",
    "words.append('egg')\n",
    "words.append('ham')\n",
    "words.append('spam')"
   ]
  },
  {
   "cell_type": "code",
   "execution_count": 74,
   "metadata": {},
   "outputs": [],
   "source": [
    "words.delete('egg')"
   ]
  },
  {
   "cell_type": "code",
   "execution_count": 75,
   "metadata": {},
   "outputs": [
    {
     "name": "stdout",
     "output_type": "stream",
     "text": [
      "ham\n"
     ]
    }
   ],
   "source": [
    "for word in words.iterate():\n",
    "    print(word)"
   ]
  },
  {
   "cell_type": "markdown",
   "metadata": {},
   "source": [
    "<b>Searching and clearing</b>"
   ]
  },
  {
   "cell_type": "code",
   "execution_count": 78,
   "metadata": {},
   "outputs": [],
   "source": [
    "class SinglyLinkedList:\n",
    "    def __init__(self):\n",
    "        self.tail = None\n",
    "        self.head = None\n",
    "        self.size = 0\n",
    "        \n",
    "        \n",
    "    def append(self, value):\n",
    "        node = Node(value)\n",
    "        if self.tail:\n",
    "            self.tail.next = node\n",
    "            self.tail = node\n",
    "        else:\n",
    "            self.tail = node\n",
    "            self.head = node \n",
    "        self.size += 1 \n",
    "         \n",
    "            \n",
    "    def iterate(self):\n",
    "        current = self.head\n",
    "        while current:\n",
    "            yield current.value\n",
    "            current = current.next       \n",
    "\n",
    "            \n",
    "    def delete(self, value):\n",
    "        current = self.head\n",
    "        previous = self.head\n",
    "        while current:\n",
    "            if current.value == value:\n",
    "                if current == self.head:\n",
    "                    self.head = current.next\n",
    "                else:\n",
    "                    previous.next = current.next\n",
    "                self.size -= 1\n",
    "                return\n",
    "            previous = current\n",
    "            current = current.next\n",
    "         \n",
    "        \n",
    "    def search(self, value):\n",
    "        \"\"\"\n",
    "        Search within all the nodes if the value you\n",
    "        supply is equal to the 'node'/node value.\n",
    "        \"\"\"\n",
    "        for node in self.iterate():\n",
    "            if value == node:\n",
    "                return True\n",
    "        return False\n",
    "    \n",
    "    \n",
    "    def clear(self):\n",
    "        \"\"\"Easily clear the linked list by setting both the head and tail to None.\n",
    "        \"\"\"\n",
    "        self.tail = None\n",
    "        self.head = None\n",
    "        print('cleared')"
   ]
  },
  {
   "cell_type": "code",
   "execution_count": 79,
   "metadata": {},
   "outputs": [],
   "source": [
    "words = SinglyLinkedList()\n",
    "\n",
    "words.append('egg')\n",
    "words.append('ham')\n",
    "words.append('spam')"
   ]
  },
  {
   "cell_type": "code",
   "execution_count": 80,
   "metadata": {},
   "outputs": [
    {
     "data": {
      "text/plain": [
       "True"
      ]
     },
     "execution_count": 80,
     "metadata": {},
     "output_type": "execute_result"
    }
   ],
   "source": [
    "words.search('spam')"
   ]
  },
  {
   "cell_type": "code",
   "execution_count": 81,
   "metadata": {},
   "outputs": [
    {
     "name": "stdout",
     "output_type": "stream",
     "text": [
      "cleared\n"
     ]
    }
   ],
   "source": [
    "words.clear()"
   ]
  },
  {
   "cell_type": "code",
   "execution_count": 83,
   "metadata": {},
   "outputs": [],
   "source": [
    "for word in words.iterate():\n",
    "    print(word)"
   ]
  },
  {
   "cell_type": "markdown",
   "metadata": {},
   "source": [
    "<b>Sorting</b>"
   ]
  },
  {
   "cell_type": "code",
   "execution_count": null,
   "metadata": {},
   "outputs": [],
   "source": [
    "class SinglyLinkedList:\n",
    "    def __init__(self):\n",
    "        self.tail = None\n",
    "        self.head = None\n",
    "        self.size = 0\n",
    "        \n",
    "        \n",
    "    def append(self, value):\n",
    "        node = Node(value)\n",
    "        if self.tail:\n",
    "            self.tail.next = node\n",
    "            self.tail = node\n",
    "        else:\n",
    "            self.tail = node\n",
    "            self.head = node \n",
    "        self.size += 1 \n",
    "         \n",
    "            \n",
    "    def iterate(self):\n",
    "        current = self.head\n",
    "        while current:\n",
    "            yield current.value\n",
    "            current = current.next       \n",
    "            \n",
    "    \n",
    "    def sort(self):\n",
    "        \"\"\"\n",
    "        Iterate through, while current, appened to a list and sort.\n",
    "        \"\"\"\n",
    "        current = self.head\n",
    "        to_sort = []\n",
    "        while current:\n",
    "            to_sort.append(current.value)\n",
    "            current = current.next\n",
    "        to_sort.sort(reverse=True)  # Depends on your preference\n",
    "        return to_sort\n",
    "\n",
    "            \n",
    "    def delete(self, value):\n",
    "        current = self.head\n",
    "        previous = self.head\n",
    "        while current:\n",
    "            if current.value == value:\n",
    "                if current == self.head:\n",
    "                    self.head = current.next\n",
    "                else:\n",
    "                    previous.next = current.next\n",
    "                self.size -= 1\n",
    "                return\n",
    "            previous = current\n",
    "            current = current.next\n",
    "         \n",
    "        \n",
    "    def search(self, value):\n",
    "        for node in self.iterate():\n",
    "            if value == node:\n",
    "                return True\n",
    "        return False\n",
    "    \n",
    "    \n",
    "    def clear(self):\n",
    "        self.tail = None\n",
    "        self.head = None\n",
    "        print('cleared')"
   ]
  },
  {
   "cell_type": "code",
   "execution_count": 42,
   "metadata": {},
   "outputs": [
    {
     "data": {
      "text/plain": [
       "[232, 34, 11]"
      ]
     },
     "execution_count": 42,
     "metadata": {},
     "output_type": "execute_result"
    }
   ],
   "source": [
    "nums = SinglyLinkedList()\n",
    "\n",
    "nums.append(11)\n",
    "nums.append(232)\n",
    "nums.append(34)\n",
    "\n",
    "nums.sort()"
   ]
  },
  {
   "cell_type": "markdown",
   "metadata": {},
   "source": [
    "# All Together"
   ]
  },
  {
   "cell_type": "code",
   "execution_count": 39,
   "metadata": {},
   "outputs": [],
   "source": [
    "# Simple node with pointer.\n",
    "class Node:\n",
    "    def __init__(self, value):\n",
    "        self.value = value\n",
    "        self.next = None\n",
    "\n",
    "        \n",
    "class SinglyLinkedList:  # Should run in O(1)\n",
    "    def __init__(self):\n",
    "        self.tail = None\n",
    "        self.head = None\n",
    "        self.size = 0  # We initialize a counter at 0.\n",
    "        \n",
    "        \n",
    "    def append(self, value):\n",
    "        \"\"\"\n",
    "        The point at which we append new nodes is through self.head.\n",
    "        self.tail will refer to the first node.\n",
    "        \"\"\"\n",
    "        node = Node(value)\n",
    "        if self.tail:\n",
    "            self.tail.next = node\n",
    "            self.tail = node\n",
    "        else:  # Sets the first entry as head node, and now updates tail pointing to each new append, ending at none.\n",
    "            self.tail = node\n",
    "            self.head = node \n",
    "        self.size += 1 \n",
    "           \n",
    "            \n",
    "    def iterate(self):\n",
    "        \"\"\"\n",
    "        We can now completely ignore anything called a node outside of this list class.\n",
    "        We Start at the tail node print its value then set the current node to the next node it points to\n",
    "        \n",
    "        Using a generator to save more memory.\n",
    "        \"\"\"\n",
    "        current = self.head\n",
    "        while current:\n",
    "            yield current.value\n",
    "            current = current.next\n",
    "            \n",
    "            \n",
    "    def sort(self):\n",
    "        \"\"\"\n",
    "        Iterate through, while current, appened to a list and sort.\n",
    "        \"\"\"\n",
    "        current = self.head\n",
    "        to_sort = []\n",
    "        while current:\n",
    "            to_sort.append(current.value)\n",
    "            current = current.next\n",
    "        to_sort.sort(reverse=True)  # Depends on your preference\n",
    "        return to_sort\n",
    "\n",
    "            \n",
    "    def delete(self, value):\n",
    "        \"\"\"\n",
    "        To delete a node between other nodes we must make the previous node point directly to the\n",
    "        successor of its next node.\n",
    "        \n",
    "        It should take O(n) to delete the node.\n",
    "        \"\"\"\n",
    "        current = self.head\n",
    "        previous = self.head\n",
    "        while current:\n",
    "            if current.value == value:\n",
    "                if current == self.head:\n",
    "                    self.head = current.next\n",
    "                else:\n",
    "                    previous.next = current.next\n",
    "                self.size -= 1\n",
    "                return\n",
    "            previous = current\n",
    "            current = current.next\n",
    "           \n",
    "        \n",
    "    def search(self, value, position=-1):\n",
    "        \"\"\"\n",
    "        Search within all the nodes if the value you\n",
    "        supply is equal to the 'node'/node value.\n",
    "        \"\"\"\n",
    "        for node in self.iterate():\n",
    "            position += 1\n",
    "            if value == node:\n",
    "                return position\n",
    "        return False\n",
    "    \n",
    "    \n",
    "    def clear(self):\n",
    "        \"\"\"\n",
    "        Easily clear the linked list by setting both the head and tail to None.\n",
    "        \"\"\"\n",
    "        self.tail = None\n",
    "        self.head = None\n",
    "        self.size = 0\n",
    "        print('cleared')"
   ]
  }
 ],
 "metadata": {
  "kernelspec": {
   "display_name": "Python 3",
   "language": "python",
   "name": "python3"
  },
  "language_info": {
   "codemirror_mode": {
    "name": "ipython",
    "version": 3
   },
   "file_extension": ".py",
   "mimetype": "text/x-python",
   "name": "python",
   "nbconvert_exporter": "python",
   "pygments_lexer": "ipython3",
   "version": "3.6.6"
  }
 },
 "nbformat": 4,
 "nbformat_minor": 2
}
