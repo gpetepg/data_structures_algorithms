{
 "cells": [
  {
   "cell_type": "markdown",
   "metadata": {},
   "source": [
    "# Hashing"
   ]
  },
  {
   "cell_type": "markdown",
   "metadata": {},
   "source": [
    "Python has built in hash table functionality with dictionaries. This example is for creating hash tables without the dict keyword and its attributes."
   ]
  },
  {
   "cell_type": "markdown",
   "metadata": {},
   "source": [
    "Hashing means to convert data of an arbitrary size into data of fixed size."
   ]
  },
  {
   "cell_type": "markdown",
   "metadata": {},
   "source": [
    "Three main components of a hashmap:\n",
    "1. Array: A data structure to store the data/value\n",
    "2. Hash function: A function to convert key into an array index\n",
    "3. Collision handler: If there is already a key, update the value"
   ]
  },
  {
   "cell_type": "markdown",
   "metadata": {},
   "source": [
    "<b>References and resources:</b>\n",
    "\n",
    "- Python Data Structures and Algorithms by Benjamin Baka\n",
    "- [Hashmaps using lists](https://www.youtube.com/watch?v=9HFbhPscPU0)"
   ]
  },
  {
   "cell_type": "code",
   "execution_count": null,
   "metadata": {},
   "outputs": [],
   "source": [
    "# # Uncomment to use inline pythontutor\n",
    "\n",
    "# from IPython.display import IFrame\n",
    "\n",
    "# IFrame('http://www.pythontutor.com/visualize.html#mode=display', height=1500, width=750)"
   ]
  },
  {
   "cell_type": "markdown",
   "metadata": {},
   "source": [
    "<b>Example 1</b>"
   ]
  },
  {
   "cell_type": "code",
   "execution_count": 88,
   "metadata": {},
   "outputs": [],
   "source": [
    "class HashItem:\n",
    "    def __init__(self, key, value):\n",
    "        self.key = key\n",
    "        self.value = value\n",
    "        \n",
    "        \n",
    "class HashTable:\n",
    "    def __init__(self):\n",
    "        self.size = 256\n",
    "        self.slots = [None for i in range(self.size)]\n",
    "        self.count = 0\n",
    "        \n",
    "        \n",
    "    def _hash(self, key):\n",
    "        mult = 1\n",
    "        hv = 0\n",
    "        for ch in key:\n",
    "            hv += mult * ord(ch)\n",
    "            mult += 1\n",
    "        return hv % self.size\n",
    "    \n",
    "    \n",
    "    def put(self, key, value):\n",
    "        item = HashItem(key, value)\n",
    "        hashed = self._hash(key)\n",
    "        \n",
    "        while self.slots[hashed] is not None:\n",
    "            if self.solts[hashed].key is key:\n",
    "                break\n",
    "            hashed = (hashed + 1) % self.size\n",
    "        if self.slots[hashed] is None:\n",
    "            self.count += 1\n",
    "        self.slots[hashed] = item\n",
    "            \n",
    "            \n",
    "    def get(self, key):\n",
    "        hashed = self._hash(key)\n",
    "        while self.slots[hashed] is not None:\n",
    "            if self.slots[hashed].key is key:\n",
    "                return self.slots[hashed].value\n",
    "            hashed = (hashed + 1) % self.size\n",
    "        return None\n",
    "    \n",
    "    \n",
    "    def __setitem__(self, key, value):\n",
    "        self.put(key, value)\n",
    "        \n",
    "        \n",
    "    def __getitem__(self, key):\n",
    "        return self.get(key)"
   ]
  },
  {
   "cell_type": "code",
   "execution_count": 89,
   "metadata": {},
   "outputs": [],
   "source": [
    "ht = HashTable()\n",
    "ht.put('good', 'eggs')\n",
    "ht.put('better', 'ham')"
   ]
  },
  {
   "cell_type": "code",
   "execution_count": 90,
   "metadata": {},
   "outputs": [
    {
     "name": "stdout",
     "output_type": "stream",
     "text": [
      "eggs\n",
      "ham\n"
     ]
    }
   ],
   "source": [
    "for key in ('good', 'better'):\n",
    "    v = ht.get(key)\n",
    "    print(v)"
   ]
  },
  {
   "cell_type": "code",
   "execution_count": 91,
   "metadata": {},
   "outputs": [],
   "source": [
    "# Using setitem and getitem\n",
    "\n",
    "ht = HashTable()\n",
    "\n",
    "ht['good'] = 'eggs'\n",
    "ht['better'] = 'ham'"
   ]
  },
  {
   "cell_type": "code",
   "execution_count": 92,
   "metadata": {},
   "outputs": [
    {
     "name": "stdout",
     "output_type": "stream",
     "text": [
      "eggs\n",
      "ham\n"
     ]
    }
   ],
   "source": [
    "for key in ('good', 'better'):\n",
    "    v = ht[key]\n",
    "    print(v)"
   ]
  },
  {
   "cell_type": "markdown",
   "metadata": {},
   "source": [
    "<b>Example 2</b>"
   ]
  },
  {
   "cell_type": "code",
   "execution_count": 129,
   "metadata": {},
   "outputs": [],
   "source": [
    "class HashMap:\n",
    "    def __init__(self):\n",
    "        self.size = 6\n",
    "        self.map = [None] * self.size\n",
    "        \n",
    "        \n",
    "    def _get_hash(self, key):\n",
    "        hash = 0\n",
    "        for char in str(key):\n",
    "            hash += ord(char)\n",
    "        return hash % self.size\n",
    "        \n",
    "        \n",
    "    def add(self, key, value):\n",
    "        key_hash = self._get_hash(key)\n",
    "        key_value = [key, value]\n",
    "        \n",
    "        if self.map[key_hash] is None:\n",
    "            self.map[key_hash] = list([key_value])\n",
    "            return True\n",
    "        else:\n",
    "            for pair in self.map[key_hash]:\n",
    "                if pair[0] == key:\n",
    "                    pair[1] = value\n",
    "                    return True\n",
    "            self.map[key_hash].append(key_value)\n",
    "            return True\n",
    "            \n",
    "            \n",
    "    def get(self, key):\n",
    "        key_hash = self._get_hash(key)\n",
    "        if self.map[key_hash] is not None:\n",
    "            for pair in self.map[key_hash]:\n",
    "                if pair[0] == key:\n",
    "                    return pair[1]\n",
    "        return None\n",
    "            \n",
    "        \n",
    "    def delete(self, key):\n",
    "        key_hash = self._get_hash(key)\n",
    "        \n",
    "        if self.map[key_hash] is None:\n",
    "            return False\n",
    "        for i in range (0, len(self.map[key_hash])):\n",
    "            if self.map[key_hash][i][0] == key:\n",
    "                self.map[key_hash].pop(i)\n",
    "                return True\n",
    "            \n",
    "            \n",
    "    def print_hashmap(self):\n",
    "        print([item for item in self.map if item is not None])"
   ]
  },
  {
   "cell_type": "code",
   "execution_count": 134,
   "metadata": {},
   "outputs": [
    {
     "data": {
      "text/plain": [
       "True"
      ]
     },
     "execution_count": 134,
     "metadata": {},
     "output_type": "execute_result"
    }
   ],
   "source": [
    "h = HashMap()\n",
    "h.add('gpetepg', '123')\n",
    "h.add('Mandy', '456')"
   ]
  },
  {
   "cell_type": "code",
   "execution_count": 135,
   "metadata": {},
   "outputs": [
    {
     "name": "stdout",
     "output_type": "stream",
     "text": [
      "[[['Mandy', '456']], [['gpetepg', '123']]]\n"
     ]
    }
   ],
   "source": [
    "h.print_hashmap()"
   ]
  }
 ],
 "metadata": {
  "kernelspec": {
   "display_name": "Python 3",
   "language": "python",
   "name": "python3"
  },
  "language_info": {
   "codemirror_mode": {
    "name": "ipython",
    "version": 3
   },
   "file_extension": ".py",
   "mimetype": "text/x-python",
   "name": "python",
   "nbconvert_exporter": "python",
   "pygments_lexer": "ipython3",
   "version": "3.6.6"
  }
 },
 "nbformat": 4,
 "nbformat_minor": 2
}
